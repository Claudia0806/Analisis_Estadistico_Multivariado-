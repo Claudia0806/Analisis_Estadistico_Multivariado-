{
 "cells": [
  {
   "cell_type": "markdown",
   "id": "experienced-encyclopedia",
   "metadata": {},
   "source": [
    "<img style=\"float: right; margin: 0px 0px 15px 15px;\" src=\"https://occ-mkt.s3.us-west-2.amazonaws.com/blog/wp-content/uploads/2020/09/Empresas-que-ofrecen-seguro-de-vida.jpg\" width=\"350px\" height=\"180px\" />\n",
    "\n",
    "# <font color= #1E9OFF> Análisis Estadístico Multivariado </font>\n",
    "\n",
    "- <Strong> `Claudia Celeste Castillejos Jáuregui` </Strong>\n",
    "- <Strong> `30 marzo 2022`</Strong>\n",
    "- <Strong> `Ejercicio 1`</Strong>\n",
    "- <Strong> `claudia.castillejos@iteso.mx` </Strong> \n",
    "- <Strong> `Rocio Carrasco Navarro` </Strong> \n"
   ]
  },
  {
   "cell_type": "markdown",
   "id": "fuzzy-overhead",
   "metadata": {},
   "source": [
    "### <font color= #1E9OFF> Apéndice </font>\n",
    "\n",
    "- Portada.\n",
    "- Introducción.\n",
    "- Descripción de la base de datos.\n",
    "- Objetivo.\n",
    "- Desarrollo.\n",
    "- Resultados\n",
    "- Conclusiones."
   ]
  },
  {
   "cell_type": "markdown",
   "id": "secondary-letter",
   "metadata": {},
   "source": [
    "### <font color= #1E9OFF> Introducción </font>"
   ]
  },
  {
   "cell_type": "markdown",
   "id": "necessary-choir",
   "metadata": {},
   "source": [
    "En está practica hablaremos de una base de datos acerca de seguros de vida, lo más importante será determinar si hay diferencias en las medias de las variables que se prueben a continuación y si es así determinar cuáles son las medias distintas con respecto a la base de datos."
   ]
  },
  {
   "cell_type": "markdown",
   "id": "alternate-colorado",
   "metadata": {},
   "source": [
    "### <font color= #1E9OFF> Descripción de la base de datos </font>"
   ]
  },
  {
   "cell_type": "markdown",
   "id": "unavailable-input",
   "metadata": {},
   "source": [
    "Esta base de datos tiene 7 variables, 3 categóricas y 4 númericas.La variable dependiente es cargos, que se refiere al costo del seguro médico individual.\n",
    "\n",
    "Nombre de las variables:\n",
    "\n",
    "* edad (age): edad del beneficiario principal\n",
    "\n",
    "* sexo (sex): contratista de seguros género, femenino, masculino\n",
    "\n",
    "* bmi (bmi): Índice de masa corporal, que proporciona una comprensión del cuerpo, pesos que son relativamente altos o bajos en relación con la altura,\n",
    "índice objetivo de peso corporal (kg / m ^ 2) utilizando la relación entre altura y peso, idealmente 18,5 a 24,9\n",
    "\n",
    "* niños (children): Número de niños cubiertos por el seguro de salud / Número de dependientes\n",
    "\n",
    "* fumador (smoker): si fuman\n",
    "\n",
    "* región (region): el área residencial del beneficiario en los EE. UU., noreste, sureste, suroeste, noroeste.\n",
    "\n",
    "* cargos (charges): costos médicos individuales facturados por el seguro de salud\n"
   ]
  },
  {
   "cell_type": "markdown",
   "id": "north-lending",
   "metadata": {},
   "source": [
    "### <font color= #1E9OFF> Objectivo </font>"
   ]
  },
  {
   "cell_type": "markdown",
   "id": "developing-township",
   "metadata": {},
   "source": [
    "Realizar un ánalisis de las diferencias entre las medias de una base de datos  con ayuda del ANOVA y interpretar los resutados."
   ]
  },
  {
   "cell_type": "markdown",
   "id": "second-width",
   "metadata": {},
   "source": [
    "### <font color= #1E9OFF> Desarrollo </font>"
   ]
  },
  {
   "cell_type": "code",
   "execution_count": 18,
   "id": "continuous-sandwich",
   "metadata": {},
   "outputs": [],
   "source": [
    "import pandas as pd \n",
    "import numpy as np\n",
    "import researchpy as rp\n",
    "import statsmodels.api as sm\n",
    "from statsmodels.formula.api import ols\n",
    "import statsmodels.stats.multicomp as mc\n",
    "import pingouin as pg"
   ]
  },
  {
   "cell_type": "markdown",
   "id": "daily-northwest",
   "metadata": {},
   "source": [
    "#### <font color= #1E9OFF> 1.- Elegir una base de datos apropiada para el análisis de la varianza. </font> "
   ]
  },
  {
   "cell_type": "code",
   "execution_count": 19,
   "id": "thrown-school",
   "metadata": {},
   "outputs": [
    {
     "data": {
      "text/html": [
       "<div>\n",
       "<style scoped>\n",
       "    .dataframe tbody tr th:only-of-type {\n",
       "        vertical-align: middle;\n",
       "    }\n",
       "\n",
       "    .dataframe tbody tr th {\n",
       "        vertical-align: top;\n",
       "    }\n",
       "\n",
       "    .dataframe thead th {\n",
       "        text-align: right;\n",
       "    }\n",
       "</style>\n",
       "<table border=\"1\" class=\"dataframe\">\n",
       "  <thead>\n",
       "    <tr style=\"text-align: right;\">\n",
       "      <th></th>\n",
       "      <th>age</th>\n",
       "      <th>sex</th>\n",
       "      <th>bmi</th>\n",
       "      <th>children</th>\n",
       "      <th>smoker</th>\n",
       "      <th>region</th>\n",
       "      <th>charges</th>\n",
       "    </tr>\n",
       "  </thead>\n",
       "  <tbody>\n",
       "    <tr>\n",
       "      <th>0</th>\n",
       "      <td>19</td>\n",
       "      <td>female</td>\n",
       "      <td>27.900</td>\n",
       "      <td>0</td>\n",
       "      <td>yes</td>\n",
       "      <td>southwest</td>\n",
       "      <td>16884.92400</td>\n",
       "    </tr>\n",
       "    <tr>\n",
       "      <th>1</th>\n",
       "      <td>18</td>\n",
       "      <td>male</td>\n",
       "      <td>33.770</td>\n",
       "      <td>1</td>\n",
       "      <td>no</td>\n",
       "      <td>southeast</td>\n",
       "      <td>1725.55230</td>\n",
       "    </tr>\n",
       "    <tr>\n",
       "      <th>2</th>\n",
       "      <td>28</td>\n",
       "      <td>male</td>\n",
       "      <td>33.000</td>\n",
       "      <td>3</td>\n",
       "      <td>no</td>\n",
       "      <td>southeast</td>\n",
       "      <td>4449.46200</td>\n",
       "    </tr>\n",
       "    <tr>\n",
       "      <th>3</th>\n",
       "      <td>33</td>\n",
       "      <td>male</td>\n",
       "      <td>22.705</td>\n",
       "      <td>0</td>\n",
       "      <td>no</td>\n",
       "      <td>northwest</td>\n",
       "      <td>21984.47061</td>\n",
       "    </tr>\n",
       "    <tr>\n",
       "      <th>4</th>\n",
       "      <td>32</td>\n",
       "      <td>male</td>\n",
       "      <td>28.880</td>\n",
       "      <td>0</td>\n",
       "      <td>no</td>\n",
       "      <td>northwest</td>\n",
       "      <td>3866.85520</td>\n",
       "    </tr>\n",
       "    <tr>\n",
       "      <th>...</th>\n",
       "      <td>...</td>\n",
       "      <td>...</td>\n",
       "      <td>...</td>\n",
       "      <td>...</td>\n",
       "      <td>...</td>\n",
       "      <td>...</td>\n",
       "      <td>...</td>\n",
       "    </tr>\n",
       "    <tr>\n",
       "      <th>1333</th>\n",
       "      <td>50</td>\n",
       "      <td>male</td>\n",
       "      <td>30.970</td>\n",
       "      <td>3</td>\n",
       "      <td>no</td>\n",
       "      <td>northwest</td>\n",
       "      <td>10600.54830</td>\n",
       "    </tr>\n",
       "    <tr>\n",
       "      <th>1334</th>\n",
       "      <td>18</td>\n",
       "      <td>female</td>\n",
       "      <td>31.920</td>\n",
       "      <td>0</td>\n",
       "      <td>no</td>\n",
       "      <td>northeast</td>\n",
       "      <td>2205.98080</td>\n",
       "    </tr>\n",
       "    <tr>\n",
       "      <th>1335</th>\n",
       "      <td>18</td>\n",
       "      <td>female</td>\n",
       "      <td>36.850</td>\n",
       "      <td>0</td>\n",
       "      <td>no</td>\n",
       "      <td>southeast</td>\n",
       "      <td>1629.83350</td>\n",
       "    </tr>\n",
       "    <tr>\n",
       "      <th>1336</th>\n",
       "      <td>21</td>\n",
       "      <td>female</td>\n",
       "      <td>25.800</td>\n",
       "      <td>0</td>\n",
       "      <td>no</td>\n",
       "      <td>southwest</td>\n",
       "      <td>2007.94500</td>\n",
       "    </tr>\n",
       "    <tr>\n",
       "      <th>1337</th>\n",
       "      <td>61</td>\n",
       "      <td>female</td>\n",
       "      <td>29.070</td>\n",
       "      <td>0</td>\n",
       "      <td>yes</td>\n",
       "      <td>northwest</td>\n",
       "      <td>29141.36030</td>\n",
       "    </tr>\n",
       "  </tbody>\n",
       "</table>\n",
       "<p>1338 rows × 7 columns</p>\n",
       "</div>"
      ],
      "text/plain": [
       "      age     sex     bmi  children smoker     region      charges\n",
       "0      19  female  27.900         0    yes  southwest  16884.92400\n",
       "1      18    male  33.770         1     no  southeast   1725.55230\n",
       "2      28    male  33.000         3     no  southeast   4449.46200\n",
       "3      33    male  22.705         0     no  northwest  21984.47061\n",
       "4      32    male  28.880         0     no  northwest   3866.85520\n",
       "...   ...     ...     ...       ...    ...        ...          ...\n",
       "1333   50    male  30.970         3     no  northwest  10600.54830\n",
       "1334   18  female  31.920         0     no  northeast   2205.98080\n",
       "1335   18  female  36.850         0     no  southeast   1629.83350\n",
       "1336   21  female  25.800         0     no  southwest   2007.94500\n",
       "1337   61  female  29.070         0    yes  northwest  29141.36030\n",
       "\n",
       "[1338 rows x 7 columns]"
      ]
     },
     "execution_count": 19,
     "metadata": {},
     "output_type": "execute_result"
    }
   ],
   "source": [
    "# Cargamos la base de datos\n",
    "data = pd.read_csv(\"insurance.csv\", sep=',')\n",
    "data"
   ]
  },
  {
   "cell_type": "code",
   "execution_count": 20,
   "id": "covered-sperm",
   "metadata": {},
   "outputs": [
    {
     "data": {
      "text/plain": [
       "age           int64\n",
       "sex          object\n",
       "bmi         float64\n",
       "children      int64\n",
       "smoker       object\n",
       "region       object\n",
       "charges     float64\n",
       "dtype: object"
      ]
     },
     "execution_count": 20,
     "metadata": {},
     "output_type": "execute_result"
    }
   ],
   "source": [
    "# El tipo de dato de las variables \n",
    "data.dtypes"
   ]
  },
  {
   "cell_type": "code",
   "execution_count": 22,
   "id": "advisory-science",
   "metadata": {},
   "outputs": [
    {
     "data": {
      "text/plain": [
       "age         0\n",
       "sex         0\n",
       "bmi         0\n",
       "children    0\n",
       "smoker      0\n",
       "region      0\n",
       "charges     0\n",
       "dtype: int64"
      ]
     },
     "execution_count": 22,
     "metadata": {},
     "output_type": "execute_result"
    }
   ],
   "source": [
    "#Checamos si hay datos nulos\n",
    "data.isnull().sum()"
   ]
  },
  {
   "cell_type": "code",
   "execution_count": 21,
   "id": "chinese-colleague",
   "metadata": {},
   "outputs": [
    {
     "data": {
      "text/plain": [
       "array(['age', 'sex', 'bmi', 'children', 'smoker', 'region', 'charges'],\n",
       "      dtype=object)"
      ]
     },
     "execution_count": 21,
     "metadata": {},
     "output_type": "execute_result"
    }
   ],
   "source": [
    "# Lista de las variables\n",
    "data.columns.values"
   ]
  },
  {
   "cell_type": "markdown",
   "id": "coordinate-investigator",
   "metadata": {},
   "source": [
    "\n",
    "#### <font color= #1E9OFF> 2. Diseñar un modelo de ANOVA de un factor con 3 o más niveles. </font> "
   ]
  },
  {
   "cell_type": "code",
   "execution_count": 23,
   "id": "naval-geography",
   "metadata": {},
   "outputs": [
    {
     "name": "stdout",
     "output_type": "stream",
     "text": [
      "\n",
      "\n"
     ]
    },
    {
     "data": {
      "text/plain": [
       "<AxesSubplot:title={'center':'charges'}, xlabel='region'>"
      ]
     },
     "execution_count": 23,
     "metadata": {},
     "output_type": "execute_result"
    },
    {
     "data": {
      "image/png": "[encoded data removed]",
      "text/plain": [
       "<Figure size 432x288 with 1 Axes>"
      ]
     },
     "metadata": {
      "needs_background": "light"
     },
     "output_type": "display_data"
    }
   ],
   "source": [
    "groups= data.groupby('region').count().reset_index()\n",
    "rp.summary_cont(data['charges'].groupby(data['region']))\n",
    "data.boxplot('charges',by='region',rot=90)"
   ]
  },
  {
   "cell_type": "markdown",
   "id": "champion-binding",
   "metadata": {},
   "source": [
    "En el diagrama de cajas y bigotes podemos ver que hay muchos datos atípicos por nivel de región."
   ]
  },
  {
   "cell_type": "code",
   "execution_count": 24,
   "id": "complicated-guidance",
   "metadata": {},
   "outputs": [
    {
     "name": "stdout",
     "output_type": "stream",
     "text": [
      "              df        sum_sq       mean_sq         F    PR(>F)\n",
      "region       3.0  1.300760e+09  4.335866e+08  2.969627  0.030893\n",
      "Residual  1334.0  1.947735e+11  1.460071e+08       NaN       NaN\n"
     ]
    }
   ],
   "source": [
    "#Anova\n",
    "model= ols('charges ~ region', data=data).fit()\n",
    "anova_table =sm.stats.anova_lm(model,type=2)\n",
    "print (anova_table)"
   ]
  },
  {
   "cell_type": "markdown",
   "id": "seven-right",
   "metadata": {},
   "source": [
    "En esta tabla el p-value es menor que 0.05 por lo tanto no se acepta la hipótesis nula y hay diferencia entre sus medias."
   ]
  },
  {
   "cell_type": "code",
   "execution_count": 25,
   "id": "improving-respondent",
   "metadata": {},
   "outputs": [
    {
     "data": {
      "text/html": [
       "<div>\n",
       "<style scoped>\n",
       "    .dataframe tbody tr th:only-of-type {\n",
       "        vertical-align: middle;\n",
       "    }\n",
       "\n",
       "    .dataframe tbody tr th {\n",
       "        vertical-align: top;\n",
       "    }\n",
       "\n",
       "    .dataframe thead th {\n",
       "        text-align: right;\n",
       "    }\n",
       "</style>\n",
       "<table border=\"1\" class=\"dataframe\">\n",
       "  <thead>\n",
       "    <tr style=\"text-align: right;\">\n",
       "      <th></th>\n",
       "      <th>W</th>\n",
       "      <th>pval</th>\n",
       "      <th>normal</th>\n",
       "    </tr>\n",
       "  </thead>\n",
       "  <tbody>\n",
       "    <tr>\n",
       "      <th>southwest</th>\n",
       "      <td>0.784295</td>\n",
       "      <td>2.023704e-20</td>\n",
       "      <td>False</td>\n",
       "    </tr>\n",
       "    <tr>\n",
       "      <th>southeast</th>\n",
       "      <td>0.824230</td>\n",
       "      <td>1.232663e-19</td>\n",
       "      <td>False</td>\n",
       "    </tr>\n",
       "    <tr>\n",
       "      <th>northwest</th>\n",
       "      <td>0.812803</td>\n",
       "      <td>4.268424e-19</td>\n",
       "      <td>False</td>\n",
       "    </tr>\n",
       "    <tr>\n",
       "      <th>northeast</th>\n",
       "      <td>0.835343</td>\n",
       "      <td>6.552676e-18</td>\n",
       "      <td>False</td>\n",
       "    </tr>\n",
       "  </tbody>\n",
       "</table>\n",
       "</div>"
      ],
      "text/plain": [
       "                  W          pval  normal\n",
       "southwest  0.784295  2.023704e-20   False\n",
       "southeast  0.824230  1.232663e-19   False\n",
       "northwest  0.812803  4.268424e-19   False\n",
       "northeast  0.835343  6.552676e-18   False"
      ]
     },
     "execution_count": 25,
     "metadata": {},
     "output_type": "execute_result"
    }
   ],
   "source": [
    "#Supuestos del modelo \n",
    "#Normalidad prueba de Shapiro-Wilk\n",
    "#Ho: Normalidad(p>0.05)\n",
    "#H1: No Normalidad(p<0.05)\n",
    "#Normalidad en las variables\n",
    "pg.normality(data, dv='charges',group='region')"
   ]
  },
  {
   "cell_type": "markdown",
   "id": "premium-diamond",
   "metadata": {},
   "source": [
    "Los niveles de esta base de datos no tienen normalidad por que están sesgados los datos."
   ]
  },
  {
   "cell_type": "code",
   "execution_count": 30,
   "id": "demographic-winning",
   "metadata": {},
   "outputs": [
    {
     "data": {
      "text/html": [
       "<div>\n",
       "<style scoped>\n",
       "    .dataframe tbody tr th:only-of-type {\n",
       "        vertical-align: middle;\n",
       "    }\n",
       "\n",
       "    .dataframe tbody tr th {\n",
       "        vertical-align: top;\n",
       "    }\n",
       "\n",
       "    .dataframe thead th {\n",
       "        text-align: right;\n",
       "    }\n",
       "</style>\n",
       "<table border=\"1\" class=\"dataframe\">\n",
       "  <thead>\n",
       "    <tr style=\"text-align: right;\">\n",
       "      <th></th>\n",
       "      <th>W</th>\n",
       "      <th>pval</th>\n",
       "      <th>equal_var</th>\n",
       "    </tr>\n",
       "  </thead>\n",
       "  <tbody>\n",
       "    <tr>\n",
       "      <th>levene</th>\n",
       "      <td>5.559967</td>\n",
       "      <td>0.000861</td>\n",
       "      <td>False</td>\n",
       "    </tr>\n",
       "  </tbody>\n",
       "</table>\n",
       "</div>"
      ],
      "text/plain": [
       "               W      pval  equal_var\n",
       "levene  5.559967  0.000861      False"
      ]
     },
     "execution_count": 30,
     "metadata": {},
     "output_type": "execute_result"
    }
   ],
   "source": [
    "#Homocedasticidad prueba de Levene (sin normalidad)\n",
    "#Ho: Homocedasticidad(p>0.05)\n",
    "#H1: No Homocedasticidad(p<0.05)\n",
    "pg.homoscedasticity(data, dv='charges',group='region',method='levene')"
   ]
  },
  {
   "cell_type": "markdown",
   "id": "accessory-advancement",
   "metadata": {},
   "source": [
    "Es homocedastico, por lo tanto tiene una varianza constante."
   ]
  },
  {
   "cell_type": "code",
   "execution_count": 27,
   "id": "recent-invention",
   "metadata": {},
   "outputs": [
    {
     "name": "stdout",
     "output_type": "stream",
     "text": [
      "       Multiple Comparison of Means - Tukey HSD, FWER=0.05       \n",
      "=================================================================\n",
      "  group1    group2   meandiff  p-adj    lower      upper   reject\n",
      "-----------------------------------------------------------------\n",
      "northeast northwest  -988.8091 0.7245 -3428.9343 1451.3161  False\n",
      "northeast southeast  1329.0269 0.4745 -1044.9417 3702.9955  False\n",
      "northeast southwest -1059.4471 0.6792 -3499.5723 1380.6781  False\n",
      "northwest southeast  2317.8361 0.0583   -54.1994 4689.8716  False\n",
      "northwest southwest    -70.638 0.9999 -2508.8826 2367.6066  False\n",
      "southeast southwest -2388.4741 0.0477 -4760.5096  -16.4386   True\n",
      "-----------------------------------------------------------------\n"
     ]
    }
   ],
   "source": [
    "#Comparación multiple Prueba de Tukey\n",
    "comp =mc.MultiComparison(data['charges'],data['region'])\n",
    "post_hoc_res = comp.tukeyhsd()\n",
    "print(post_hoc_res.summary())"
   ]
  },
  {
   "cell_type": "markdown",
   "id": "entitled-think",
   "metadata": {},
   "source": [
    "### <font color= #1E9OFF> Resultados: </font> \n",
    "En la prueba de Tukey, con la comparación de southweast y southwest determinamos que hay una diferencia entre ambas regiones con respecto a cuanto deben de pagar por el seguro. La comparación entre northwest y southwest da un meandiff negativo, por que el promedio de el grupo 2 es mayor. solo la comparación de northeast y southeast da positivo en el meandiff eso quiere decir que el mayor promedio está en el grupo 1."
   ]
  },
  {
   "cell_type": "markdown",
   "id": "adopted-romance",
   "metadata": {},
   "source": [
    "#### <font color= #1E9OFF> 3.- Diseñar un modelo de ANOVA de 2 o más factores. </font> "
   ]
  },
  {
   "cell_type": "code",
   "execution_count": 28,
   "id": "radio-salem",
   "metadata": {},
   "outputs": [
    {
     "name": "stdout",
     "output_type": "stream",
     "text": [
      "              df        sum_sq       mean_sq            F         PR(>F)\n",
      "region       3.0  1.300760e+09  4.335866e+08     7.757896   3.883674e-05\n",
      "smoker       1.0  1.203267e+11  1.203267e+11  2152.930530  1.830264e-280\n",
      "sex          1.0  1.698505e+06  1.698505e+06     0.030390   8.616341e-01\n",
      "Residual  1332.0  7.444510e+10  5.588971e+07          NaN            NaN\n"
     ]
    }
   ],
   "source": [
    "model= ols('charges ~ region + smoker + sex', data=data).fit()\n",
    "anova_table =sm.stats.anova_lm(model,type=2)\n",
    "print (anova_table)"
   ]
  },
  {
   "cell_type": "markdown",
   "id": "hearing-london",
   "metadata": {},
   "source": [
    "### <font color= #1E9OFF> Resultados: </font> \n",
    "\n",
    "El p-value para la variable smoker es menor que 0.05 por lo tanto no se acepta la hipótesis nula y hay diferencia entre sus medias. Para la variable sex es mayor a 0.05 por lo tanto se acepta la hipótesis nula y no hay diferencia entre las medias que significa que el precio del seguro es casi igual para hombres como a mujeres. Por último, región que es menor que 0.05 por lo tanto no se acepta la hipótesis nula y hay diferencia entre sus medias."
   ]
  },
  {
   "cell_type": "code",
   "execution_count": 31,
   "id": "allied-astronomy",
   "metadata": {},
   "outputs": [
    {
     "name": "stdout",
     "output_type": "stream",
     "text": [
      "       Multiple Comparison of Means - Tukey HSD, FWER=0.05       \n",
      "=================================================================\n",
      "  group1    group2   meandiff  p-adj    lower      upper   reject\n",
      "-----------------------------------------------------------------\n",
      "northeast northwest  -988.8091 0.7245 -3428.9343 1451.3161  False\n",
      "northeast southeast  1329.0269 0.4745 -1044.9417 3702.9955  False\n",
      "northeast southwest -1059.4471 0.6792 -3499.5723 1380.6781  False\n",
      "northwest southeast  2317.8361 0.0583   -54.1994 4689.8716  False\n",
      "northwest southwest    -70.638 0.9999 -2508.8826 2367.6066  False\n",
      "southeast southwest -2388.4741 0.0477 -4760.5096  -16.4386   True\n",
      "-----------------------------------------------------------------\n"
     ]
    }
   ],
   "source": [
    "#Comparación multiple Prueba de Tukey\n",
    "comp =mc.MultiComparison(data['charges'],data['region'])\n",
    "post_hoc_res = comp.tukeyhsd()\n",
    "print(post_hoc_res.summary())"
   ]
  },
  {
   "cell_type": "markdown",
   "id": "seeing-mozambique",
   "metadata": {},
   "source": [
    "Como vimos en los resultados de el modelo de ANOVA de un factor si hay una distribución que son diferentes sus medias y es la de southeast y soutwest"
   ]
  },
  {
   "cell_type": "code",
   "execution_count": 35,
   "id": "appointed-concert",
   "metadata": {},
   "outputs": [
    {
     "name": "stdout",
     "output_type": "stream",
     "text": [
      "    Multiple Comparison of Means - Tukey HSD, FWER=0.05    \n",
      "===========================================================\n",
      "group1 group2  meandiff  p-adj   lower      upper    reject\n",
      "-----------------------------------------------------------\n",
      "    no    yes 23615.9635  -0.0 22623.1748 24608.7523   True\n",
      "-----------------------------------------------------------\n"
     ]
    }
   ],
   "source": [
    "#Comparación multiple Prueba de Tukey\n",
    "comp =mc.MultiComparison(data['charges'],data['smoker'])\n",
    "post_hoc_res = comp.tukeyhsd()\n",
    "print(post_hoc_res.summary())"
   ]
  },
  {
   "cell_type": "markdown",
   "id": "decimal-transcript",
   "metadata": {},
   "source": [
    "Para esta tabla de Tukey podemos ver que hay una diferencia en las medias de si es o no fumador para determinar cuanto les costará el seguro de vida. "
   ]
  },
  {
   "cell_type": "code",
   "execution_count": 36,
   "id": "union-davis",
   "metadata": {},
   "outputs": [
    {
     "name": "stdout",
     "output_type": "stream",
     "text": [
      "  Multiple Comparison of Means - Tukey HSD, FWER=0.05  \n",
      "=======================================================\n",
      "group1 group2  meandiff p-adj   lower    upper   reject\n",
      "-------------------------------------------------------\n",
      "female   male 1387.1723 0.0361 89.8123 2684.5324   True\n",
      "-------------------------------------------------------\n"
     ]
    }
   ],
   "source": [
    "#Comparación multiple Prueba de Tukey\n",
    "comp =mc.MultiComparison(data['charges'],data['sex'])\n",
    "post_hoc_res = comp.tukeyhsd()\n",
    "print(post_hoc_res.summary())"
   ]
  },
  {
   "cell_type": "markdown",
   "id": "unique-outdoors",
   "metadata": {},
   "source": [
    "Para esta tabla de Tukey podemos ver que hay una diferencia en las medias de hombres y mujeres para determinar cuanto les costará el seguro de vida. "
   ]
  },
  {
   "cell_type": "markdown",
   "id": "considerable-packet",
   "metadata": {},
   "source": [
    "### <font color= #1E9OFF> Conclusiones: </font> "
   ]
  },
  {
   "cell_type": "markdown",
   "id": "cubic-hebrew",
   "metadata": {},
   "source": [
    "Considero que esta práctica me ayudo a entender mejor los conceptos que vimos en clase. además de saber cómo se emplea la distribución de las medias en un caso de la vida real. La parte más difícil de la practica fue encontrar una base de datos que sea adecuara a los requerimientos del trabajo. Lo más facil fue implementar el código del ANOVA para una variable."
   ]
  },
  {
   "cell_type": "code",
   "execution_count": null,
   "id": "effective-football",
   "metadata": {},
   "outputs": [],
   "source": []
  }
 ],
 "metadata": {
  "kernelspec": {
   "display_name": "Python 3",
   "language": "python",
   "name": "python3"
  },
  "language_info": {
   "codemirror_mode": {
    "name": "ipython",
    "version": 3
   },
   "file_extension": ".py",
   "mimetype": "text/x-python",
   "name": "python",
   "nbconvert_exporter": "python",
   "pygments_lexer": "ipython3",
   "version": "3.8.5"
  }
 },
 "nbformat": 4,
 "nbformat_minor": 5
}
