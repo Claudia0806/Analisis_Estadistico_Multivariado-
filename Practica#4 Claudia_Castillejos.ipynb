{
 "cells": [
  {
   "cell_type": "markdown",
   "id": "gentle-hamburg",
   "metadata": {},
   "source": [
    "<img style=\"float: right; margin: 0px 0px 15px 15px;\" src=\"https://www.topdoctors.es/files/Image/large/574d4503-26f8-433e-8e92-49355b793aaa.jpg\" width=\"350px\" height=\"180px\" />\n",
    "\n",
    "# <font color= #990066> Análisis Estadístico Multivariado </font>\n",
    "\n",
    "- <Strong> `Claudia Celeste Castillejos Jáuregui` </Strong>\n",
    "- <Strong> `5 abril 2022`</Strong>\n",
    "- <Strong> `Practica #4`</Strong>\n",
    "- <Strong> `claudia.castillejos@iteso.mx` </Strong> \n",
    "- <Strong> `Rocio Carrasco Navarro` </Strong> "
   ]
  },
  {
   "cell_type": "markdown",
   "id": "excess-berry",
   "metadata": {},
   "source": [
    "### <font color= #990066> Apéndice </font>\n",
    "\n",
    "- Portada.\n",
    "- Introducción.\n",
    "- Descripción de la base de datos.\n",
    "- Objetivo.\n",
    "- Desarrollo.\n",
    "- Resultados\n",
    "- Conclusiones."
   ]
  },
  {
   "cell_type": "markdown",
   "id": "peaceful-contact",
   "metadata": {},
   "source": [
    "### <font color= #990066> Introducción </font>\n",
    "\n",
    "En la práctica pasada utilice esta base de datos enfocada en seguros de vida. En este momento eliminaré esa columna y tomare como variable dependiente si fuma o no fuma y haré e análisis correspondiente con las demás variables independientes."
   ]
  },
  {
   "cell_type": "markdown",
   "id": "subsequent-driving",
   "metadata": {},
   "source": [
    "### <font color= #990066> Descripción de la base de datos </font>\n",
    "\n",
    "Esta base de datos tiene 6 variables, 3 categóricas y 3 númericas.La variable dependiente es fumador, que se refiere a si fuma o no fuma este usuario \n",
    "\n",
    "Nombre de las variables:\n",
    "\n",
    "* edad (age): edad del beneficiario principal\n",
    "\n",
    "* sexo (sex): contratista de seguros género, femenino, masculino\n",
    "\n",
    "* bmi (bmi): Índice de masa corporal, que proporciona una comprensión del cuerpo, pesos que son relativamente altos o bajos en relación con la altura,\n",
    "índice objetivo de peso corporal (kg / m ^ 2) utilizando la relación entre altura y peso, idealmente 18,5 a 24,9\n",
    "\n",
    "* niños (children): Número de niños cubiertos por el seguro de salud / Número de dependientes\n",
    "\n",
    "* región (region): el área residencial del beneficiario en los EE. UU., noreste, sureste, suroeste, noroeste.\n",
    "\n",
    "* fumador (smoker): si fuman (1) si no fuman (0)\n",
    "\n",
    "Recuperado de:\n",
    "https://www.kaggle.com/datasets/mirichoi0218/insurance\n"
   ]
  },
  {
   "cell_type": "markdown",
   "id": "convinced-bennett",
   "metadata": {},
   "source": [
    "### <font color= #990066> Objectivo </font>"
   ]
  },
  {
   "cell_type": "markdown",
   "id": "flexible-decrease",
   "metadata": {},
   "source": [
    "Realizar un ánalisis de resultados utilizando la regresión logistica y generar conclusiones correctas."
   ]
  },
  {
   "cell_type": "markdown",
   "id": "individual-forestry",
   "metadata": {},
   "source": [
    "### <font color= #990066> Desarrollo </font>"
   ]
  },
  {
   "cell_type": "code",
   "execution_count": 1,
   "id": "gorgeous-collective",
   "metadata": {},
   "outputs": [],
   "source": [
    "import pandas as pd\n",
    "import numpy as np"
   ]
  },
  {
   "cell_type": "code",
   "execution_count": 2,
   "id": "boolean-merit",
   "metadata": {},
   "outputs": [
    {
     "data": {
      "text/html": [
       "<div>\n",
       "<style scoped>\n",
       "    .dataframe tbody tr th:only-of-type {\n",
       "        vertical-align: middle;\n",
       "    }\n",
       "\n",
       "    .dataframe tbody tr th {\n",
       "        vertical-align: top;\n",
       "    }\n",
       "\n",
       "    .dataframe thead th {\n",
       "        text-align: right;\n",
       "    }\n",
       "</style>\n",
       "<table border=\"1\" class=\"dataframe\">\n",
       "  <thead>\n",
       "    <tr style=\"text-align: right;\">\n",
       "      <th></th>\n",
       "      <th>age</th>\n",
       "      <th>sex</th>\n",
       "      <th>bmi</th>\n",
       "      <th>children</th>\n",
       "      <th>smoker</th>\n",
       "      <th>region</th>\n",
       "      <th>charges</th>\n",
       "    </tr>\n",
       "  </thead>\n",
       "  <tbody>\n",
       "    <tr>\n",
       "      <th>0</th>\n",
       "      <td>19</td>\n",
       "      <td>female</td>\n",
       "      <td>27.900</td>\n",
       "      <td>0</td>\n",
       "      <td>yes</td>\n",
       "      <td>southwest</td>\n",
       "      <td>16884.92400</td>\n",
       "    </tr>\n",
       "    <tr>\n",
       "      <th>1</th>\n",
       "      <td>18</td>\n",
       "      <td>male</td>\n",
       "      <td>33.770</td>\n",
       "      <td>1</td>\n",
       "      <td>no</td>\n",
       "      <td>southeast</td>\n",
       "      <td>1725.55230</td>\n",
       "    </tr>\n",
       "    <tr>\n",
       "      <th>2</th>\n",
       "      <td>28</td>\n",
       "      <td>male</td>\n",
       "      <td>33.000</td>\n",
       "      <td>3</td>\n",
       "      <td>no</td>\n",
       "      <td>southeast</td>\n",
       "      <td>4449.46200</td>\n",
       "    </tr>\n",
       "    <tr>\n",
       "      <th>3</th>\n",
       "      <td>33</td>\n",
       "      <td>male</td>\n",
       "      <td>22.705</td>\n",
       "      <td>0</td>\n",
       "      <td>no</td>\n",
       "      <td>northwest</td>\n",
       "      <td>21984.47061</td>\n",
       "    </tr>\n",
       "    <tr>\n",
       "      <th>4</th>\n",
       "      <td>32</td>\n",
       "      <td>male</td>\n",
       "      <td>28.880</td>\n",
       "      <td>0</td>\n",
       "      <td>no</td>\n",
       "      <td>northwest</td>\n",
       "      <td>3866.85520</td>\n",
       "    </tr>\n",
       "    <tr>\n",
       "      <th>...</th>\n",
       "      <td>...</td>\n",
       "      <td>...</td>\n",
       "      <td>...</td>\n",
       "      <td>...</td>\n",
       "      <td>...</td>\n",
       "      <td>...</td>\n",
       "      <td>...</td>\n",
       "    </tr>\n",
       "    <tr>\n",
       "      <th>1333</th>\n",
       "      <td>50</td>\n",
       "      <td>male</td>\n",
       "      <td>30.970</td>\n",
       "      <td>3</td>\n",
       "      <td>no</td>\n",
       "      <td>northwest</td>\n",
       "      <td>10600.54830</td>\n",
       "    </tr>\n",
       "    <tr>\n",
       "      <th>1334</th>\n",
       "      <td>18</td>\n",
       "      <td>female</td>\n",
       "      <td>31.920</td>\n",
       "      <td>0</td>\n",
       "      <td>no</td>\n",
       "      <td>northeast</td>\n",
       "      <td>2205.98080</td>\n",
       "    </tr>\n",
       "    <tr>\n",
       "      <th>1335</th>\n",
       "      <td>18</td>\n",
       "      <td>female</td>\n",
       "      <td>36.850</td>\n",
       "      <td>0</td>\n",
       "      <td>no</td>\n",
       "      <td>southeast</td>\n",
       "      <td>1629.83350</td>\n",
       "    </tr>\n",
       "    <tr>\n",
       "      <th>1336</th>\n",
       "      <td>21</td>\n",
       "      <td>female</td>\n",
       "      <td>25.800</td>\n",
       "      <td>0</td>\n",
       "      <td>no</td>\n",
       "      <td>southwest</td>\n",
       "      <td>2007.94500</td>\n",
       "    </tr>\n",
       "    <tr>\n",
       "      <th>1337</th>\n",
       "      <td>61</td>\n",
       "      <td>female</td>\n",
       "      <td>29.070</td>\n",
       "      <td>0</td>\n",
       "      <td>yes</td>\n",
       "      <td>northwest</td>\n",
       "      <td>29141.36030</td>\n",
       "    </tr>\n",
       "  </tbody>\n",
       "</table>\n",
       "<p>1338 rows × 7 columns</p>\n",
       "</div>"
      ],
      "text/plain": [
       "      age     sex     bmi  children smoker     region      charges\n",
       "0      19  female  27.900         0    yes  southwest  16884.92400\n",
       "1      18    male  33.770         1     no  southeast   1725.55230\n",
       "2      28    male  33.000         3     no  southeast   4449.46200\n",
       "3      33    male  22.705         0     no  northwest  21984.47061\n",
       "4      32    male  28.880         0     no  northwest   3866.85520\n",
       "...   ...     ...     ...       ...    ...        ...          ...\n",
       "1333   50    male  30.970         3     no  northwest  10600.54830\n",
       "1334   18  female  31.920         0     no  northeast   2205.98080\n",
       "1335   18  female  36.850         0     no  southeast   1629.83350\n",
       "1336   21  female  25.800         0     no  southwest   2007.94500\n",
       "1337   61  female  29.070         0    yes  northwest  29141.36030\n",
       "\n",
       "[1338 rows x 7 columns]"
      ]
     },
     "execution_count": 2,
     "metadata": {},
     "output_type": "execute_result"
    }
   ],
   "source": [
    "# Cargamos la base de datos\n",
    "data = pd.read_csv(\"insurance.csv\", sep=',')\n",
    "data"
   ]
  },
  {
   "cell_type": "code",
   "execution_count": 3,
   "id": "intelligent-sense",
   "metadata": {},
   "outputs": [],
   "source": [
    "# Hacemos la variable númerica\n",
    "data['smoker'].mask(data['smoker'] == 'no',0,inplace=True)\n",
    "data['smoker'].mask(data['smoker'] == 'yes',1,inplace=True)\n",
    "#Cambiamos el tipo de variable int64\n",
    "data['smoker'] =data['smoker'].astype('int64')"
   ]
  },
  {
   "cell_type": "code",
   "execution_count": 4,
   "id": "beautiful-ordering",
   "metadata": {},
   "outputs": [
    {
     "data": {
      "text/html": [
       "<div>\n",
       "<style scoped>\n",
       "    .dataframe tbody tr th:only-of-type {\n",
       "        vertical-align: middle;\n",
       "    }\n",
       "\n",
       "    .dataframe tbody tr th {\n",
       "        vertical-align: top;\n",
       "    }\n",
       "\n",
       "    .dataframe thead th {\n",
       "        text-align: right;\n",
       "    }\n",
       "</style>\n",
       "<table border=\"1\" class=\"dataframe\">\n",
       "  <thead>\n",
       "    <tr style=\"text-align: right;\">\n",
       "      <th></th>\n",
       "      <th>age</th>\n",
       "      <th>sex</th>\n",
       "      <th>bmi</th>\n",
       "      <th>children</th>\n",
       "      <th>smoker</th>\n",
       "      <th>region</th>\n",
       "    </tr>\n",
       "  </thead>\n",
       "  <tbody>\n",
       "    <tr>\n",
       "      <th>0</th>\n",
       "      <td>19</td>\n",
       "      <td>female</td>\n",
       "      <td>27.900</td>\n",
       "      <td>0</td>\n",
       "      <td>1</td>\n",
       "      <td>southwest</td>\n",
       "    </tr>\n",
       "    <tr>\n",
       "      <th>1</th>\n",
       "      <td>18</td>\n",
       "      <td>male</td>\n",
       "      <td>33.770</td>\n",
       "      <td>1</td>\n",
       "      <td>0</td>\n",
       "      <td>southeast</td>\n",
       "    </tr>\n",
       "    <tr>\n",
       "      <th>2</th>\n",
       "      <td>28</td>\n",
       "      <td>male</td>\n",
       "      <td>33.000</td>\n",
       "      <td>3</td>\n",
       "      <td>0</td>\n",
       "      <td>southeast</td>\n",
       "    </tr>\n",
       "    <tr>\n",
       "      <th>3</th>\n",
       "      <td>33</td>\n",
       "      <td>male</td>\n",
       "      <td>22.705</td>\n",
       "      <td>0</td>\n",
       "      <td>0</td>\n",
       "      <td>northwest</td>\n",
       "    </tr>\n",
       "    <tr>\n",
       "      <th>4</th>\n",
       "      <td>32</td>\n",
       "      <td>male</td>\n",
       "      <td>28.880</td>\n",
       "      <td>0</td>\n",
       "      <td>0</td>\n",
       "      <td>northwest</td>\n",
       "    </tr>\n",
       "    <tr>\n",
       "      <th>...</th>\n",
       "      <td>...</td>\n",
       "      <td>...</td>\n",
       "      <td>...</td>\n",
       "      <td>...</td>\n",
       "      <td>...</td>\n",
       "      <td>...</td>\n",
       "    </tr>\n",
       "    <tr>\n",
       "      <th>1333</th>\n",
       "      <td>50</td>\n",
       "      <td>male</td>\n",
       "      <td>30.970</td>\n",
       "      <td>3</td>\n",
       "      <td>0</td>\n",
       "      <td>northwest</td>\n",
       "    </tr>\n",
       "    <tr>\n",
       "      <th>1334</th>\n",
       "      <td>18</td>\n",
       "      <td>female</td>\n",
       "      <td>31.920</td>\n",
       "      <td>0</td>\n",
       "      <td>0</td>\n",
       "      <td>northeast</td>\n",
       "    </tr>\n",
       "    <tr>\n",
       "      <th>1335</th>\n",
       "      <td>18</td>\n",
       "      <td>female</td>\n",
       "      <td>36.850</td>\n",
       "      <td>0</td>\n",
       "      <td>0</td>\n",
       "      <td>southeast</td>\n",
       "    </tr>\n",
       "    <tr>\n",
       "      <th>1336</th>\n",
       "      <td>21</td>\n",
       "      <td>female</td>\n",
       "      <td>25.800</td>\n",
       "      <td>0</td>\n",
       "      <td>0</td>\n",
       "      <td>southwest</td>\n",
       "    </tr>\n",
       "    <tr>\n",
       "      <th>1337</th>\n",
       "      <td>61</td>\n",
       "      <td>female</td>\n",
       "      <td>29.070</td>\n",
       "      <td>0</td>\n",
       "      <td>1</td>\n",
       "      <td>northwest</td>\n",
       "    </tr>\n",
       "  </tbody>\n",
       "</table>\n",
       "<p>1338 rows × 6 columns</p>\n",
       "</div>"
      ],
      "text/plain": [
       "      age     sex     bmi  children  smoker     region\n",
       "0      19  female  27.900         0       1  southwest\n",
       "1      18    male  33.770         1       0  southeast\n",
       "2      28    male  33.000         3       0  southeast\n",
       "3      33    male  22.705         0       0  northwest\n",
       "4      32    male  28.880         0       0  northwest\n",
       "...   ...     ...     ...       ...     ...        ...\n",
       "1333   50    male  30.970         3       0  northwest\n",
       "1334   18  female  31.920         0       0  northeast\n",
       "1335   18  female  36.850         0       0  southeast\n",
       "1336   21  female  25.800         0       0  southwest\n",
       "1337   61  female  29.070         0       1  northwest\n",
       "\n",
       "[1338 rows x 6 columns]"
      ]
     },
     "execution_count": 4,
     "metadata": {},
     "output_type": "execute_result"
    }
   ],
   "source": [
    "# Borramos charges\n",
    "data = data.drop(['charges'], axis=1)\n",
    "data"
   ]
  },
  {
   "cell_type": "code",
   "execution_count": 5,
   "id": "blind-germany",
   "metadata": {},
   "outputs": [
    {
     "data": {
      "text/plain": [
       "array(['age', 'sex', 'bmi', 'children', 'smoker', 'region'], dtype=object)"
      ]
     },
     "execution_count": 5,
     "metadata": {},
     "output_type": "execute_result"
    }
   ],
   "source": [
    "# Checamos que se borrará completamente\n",
    "data.columns.values"
   ]
  },
  {
   "cell_type": "markdown",
   "id": "continental-hostel",
   "metadata": {},
   "source": [
    "\n",
    "#### <font color= #990066> Ejercicio#1 </font>"
   ]
  },
  {
   "cell_type": "code",
   "execution_count": 6,
   "id": "convinced-industry",
   "metadata": {},
   "outputs": [
    {
     "data": {
      "text/html": [
       "<div>\n",
       "<style scoped>\n",
       "    .dataframe tbody tr th:only-of-type {\n",
       "        vertical-align: middle;\n",
       "    }\n",
       "\n",
       "    .dataframe tbody tr th {\n",
       "        vertical-align: top;\n",
       "    }\n",
       "\n",
       "    .dataframe thead th {\n",
       "        text-align: right;\n",
       "    }\n",
       "</style>\n",
       "<table border=\"1\" class=\"dataframe\">\n",
       "  <thead>\n",
       "    <tr style=\"text-align: right;\">\n",
       "      <th>region</th>\n",
       "      <th>northeast</th>\n",
       "      <th>northwest</th>\n",
       "      <th>southeast</th>\n",
       "      <th>southwest</th>\n",
       "      <th>All</th>\n",
       "    </tr>\n",
       "    <tr>\n",
       "      <th>smoker</th>\n",
       "      <th></th>\n",
       "      <th></th>\n",
       "      <th></th>\n",
       "      <th></th>\n",
       "      <th></th>\n",
       "    </tr>\n",
       "  </thead>\n",
       "  <tbody>\n",
       "    <tr>\n",
       "      <th>0</th>\n",
       "      <td>257</td>\n",
       "      <td>267</td>\n",
       "      <td>273</td>\n",
       "      <td>267</td>\n",
       "      <td>1064</td>\n",
       "    </tr>\n",
       "    <tr>\n",
       "      <th>1</th>\n",
       "      <td>67</td>\n",
       "      <td>58</td>\n",
       "      <td>91</td>\n",
       "      <td>58</td>\n",
       "      <td>274</td>\n",
       "    </tr>\n",
       "    <tr>\n",
       "      <th>All</th>\n",
       "      <td>324</td>\n",
       "      <td>325</td>\n",
       "      <td>364</td>\n",
       "      <td>325</td>\n",
       "      <td>1338</td>\n",
       "    </tr>\n",
       "  </tbody>\n",
       "</table>\n",
       "</div>"
      ],
      "text/plain": [
       "region  northeast  northwest  southeast  southwest   All\n",
       "smoker                                                  \n",
       "0             257        267        273        267  1064\n",
       "1              67         58         91         58   274\n",
       "All           324        325        364        325  1338"
      ]
     },
     "execution_count": 6,
     "metadata": {},
     "output_type": "execute_result"
    }
   ],
   "source": [
    "#Creando la tabla de frecuencias \n",
    "tabla = pd.crosstab(index=data['smoker'], columns=data['region'],margins=True)\n",
    "tabla"
   ]
  },
  {
   "cell_type": "markdown",
   "id": "alleged-penguin",
   "metadata": {},
   "source": [
    "#### <font color= #990066> Resultados: </font> \n",
    "\n",
    "La tabla de frecuencias nos muestra que hay más personas que no fuman en comparación de las que si fuman por región. La región con más personas que fuman y que no fuman es southeast. La cantidad total de las personas que no fuman en esta muestra es 1064 y de las que si fuman 274."
   ]
  },
  {
   "cell_type": "code",
   "execution_count": 7,
   "id": "concrete-nerve",
   "metadata": {},
   "outputs": [
    {
     "data": {
      "text/html": [
       "<div>\n",
       "<style scoped>\n",
       "    .dataframe tbody tr th:only-of-type {\n",
       "        vertical-align: middle;\n",
       "    }\n",
       "\n",
       "    .dataframe tbody tr th {\n",
       "        vertical-align: top;\n",
       "    }\n",
       "\n",
       "    .dataframe thead th {\n",
       "        text-align: right;\n",
       "    }\n",
       "</style>\n",
       "<table border=\"1\" class=\"dataframe\">\n",
       "  <thead>\n",
       "    <tr style=\"text-align: right;\">\n",
       "      <th>region</th>\n",
       "      <th>northeast</th>\n",
       "      <th>northwest</th>\n",
       "      <th>southeast</th>\n",
       "      <th>southwest</th>\n",
       "    </tr>\n",
       "    <tr>\n",
       "      <th>smoker</th>\n",
       "      <th></th>\n",
       "      <th></th>\n",
       "      <th></th>\n",
       "      <th></th>\n",
       "    </tr>\n",
       "  </thead>\n",
       "  <tbody>\n",
       "    <tr>\n",
       "      <th>0</th>\n",
       "      <td>5.549076</td>\n",
       "      <td>5.587249</td>\n",
       "      <td>5.609472</td>\n",
       "      <td>5.587249</td>\n",
       "    </tr>\n",
       "    <tr>\n",
       "      <th>1</th>\n",
       "      <td>4.204693</td>\n",
       "      <td>4.060443</td>\n",
       "      <td>4.510860</td>\n",
       "      <td>4.060443</td>\n",
       "    </tr>\n",
       "  </tbody>\n",
       "</table>\n",
       "</div>"
      ],
      "text/plain": [
       "region  northeast  northwest  southeast  southwest\n",
       "smoker                                            \n",
       "0        5.549076   5.587249   5.609472   5.587249\n",
       "1        4.204693   4.060443   4.510860   4.060443"
      ]
     },
     "execution_count": 7,
     "metadata": {},
     "output_type": "execute_result"
    }
   ],
   "source": [
    "# Aplicar logaritmos y medias de logaritmos\n",
    "tab_log = np.log(tabla.iloc[0:-1,0:-1])\n",
    "tab_log"
   ]
  },
  {
   "cell_type": "markdown",
   "id": "dressed-shade",
   "metadata": {},
   "source": [
    "En está tabla se calculan los logaritmos y las medias logarítmicas de cada apartado"
   ]
  },
  {
   "cell_type": "code",
   "execution_count": 8,
   "id": "suffering-taiwan",
   "metadata": {},
   "outputs": [],
   "source": [
    "# Sacar las medias por columnas \n",
    "tab_log.loc['media_c'] = tab_log.mean(axis=0)\n",
    "# Sacar las medias por filas \n",
    "tab_log['media_f'] = tab_log.mean(axis=1)"
   ]
  },
  {
   "cell_type": "code",
   "execution_count": 9,
   "id": "split-dressing",
   "metadata": {},
   "outputs": [
    {
     "data": {
      "text/html": [
       "<div>\n",
       "<style scoped>\n",
       "    .dataframe tbody tr th:only-of-type {\n",
       "        vertical-align: middle;\n",
       "    }\n",
       "\n",
       "    .dataframe tbody tr th {\n",
       "        vertical-align: top;\n",
       "    }\n",
       "\n",
       "    .dataframe thead th {\n",
       "        text-align: right;\n",
       "    }\n",
       "</style>\n",
       "<table border=\"1\" class=\"dataframe\">\n",
       "  <thead>\n",
       "    <tr style=\"text-align: right;\">\n",
       "      <th>region</th>\n",
       "      <th>northeast</th>\n",
       "      <th>northwest</th>\n",
       "      <th>southeast</th>\n",
       "      <th>southwest</th>\n",
       "      <th>media_f</th>\n",
       "    </tr>\n",
       "    <tr>\n",
       "      <th>smoker</th>\n",
       "      <th></th>\n",
       "      <th></th>\n",
       "      <th></th>\n",
       "      <th></th>\n",
       "      <th></th>\n",
       "    </tr>\n",
       "  </thead>\n",
       "  <tbody>\n",
       "    <tr>\n",
       "      <th>0</th>\n",
       "      <td>5.549076</td>\n",
       "      <td>5.587249</td>\n",
       "      <td>5.609472</td>\n",
       "      <td>5.587249</td>\n",
       "      <td>5.583261</td>\n",
       "    </tr>\n",
       "    <tr>\n",
       "      <th>1</th>\n",
       "      <td>4.204693</td>\n",
       "      <td>4.060443</td>\n",
       "      <td>4.510860</td>\n",
       "      <td>4.060443</td>\n",
       "      <td>4.209110</td>\n",
       "    </tr>\n",
       "    <tr>\n",
       "      <th>media_c</th>\n",
       "      <td>4.876884</td>\n",
       "      <td>4.823846</td>\n",
       "      <td>5.060166</td>\n",
       "      <td>4.823846</td>\n",
       "      <td>4.896185</td>\n",
       "    </tr>\n",
       "  </tbody>\n",
       "</table>\n",
       "</div>"
      ],
      "text/plain": [
       "region   northeast  northwest  southeast  southwest   media_f\n",
       "smoker                                                       \n",
       "0         5.549076   5.587249   5.609472   5.587249  5.583261\n",
       "1         4.204693   4.060443   4.510860   4.060443  4.209110\n",
       "media_c   4.876884   4.823846   5.060166   4.823846  4.896185"
      ]
     },
     "execution_count": 9,
     "metadata": {},
     "output_type": "execute_result"
    }
   ],
   "source": [
    "tab_log"
   ]
  },
  {
   "cell_type": "markdown",
   "id": "peripheral-afghanistan",
   "metadata": {},
   "source": [
    "#### <font color= #990066> Resultados: </font> \n",
    "\n",
    "Esta es la tabla de los logaritmos y le agregamos las medias logarítmicas por columna y por filas. Están nos permite identificar si hay algún sesgo en los datos si están muy diferentes los resultados entre sí, en este caso no hay problema por las medias no cambian mucho."
   ]
  },
  {
   "cell_type": "code",
   "execution_count": 10,
   "id": "passing-highlight",
   "metadata": {},
   "outputs": [
    {
     "data": {
      "text/plain": [
       "4.8961854179851665"
      ]
     },
     "execution_count": 10,
     "metadata": {},
     "output_type": "execute_result"
    }
   ],
   "source": [
    "# Calcular mu, mu1,mu2\n",
    "# Seleccionar la media global de la tab_log\n",
    "mu = tab_log.iloc[-1,-1]\n",
    "mu"
   ]
  },
  {
   "cell_type": "code",
   "execution_count": 11,
   "id": "canadian-chase",
   "metadata": {},
   "outputs": [
    {
     "data": {
      "text/plain": [
       "smoker\n",
       "0          0.687076\n",
       "1         -0.687076\n",
       "media_c    0.000000\n",
       "Name: media_f, dtype: float64"
      ]
     },
     "execution_count": 11,
     "metadata": {},
     "output_type": "execute_result"
    }
   ],
   "source": [
    "# media por filas menos la media global \n",
    "mu1 = tab_log.iloc[:,-1]-mu\n",
    "mu1"
   ]
  },
  {
   "cell_type": "markdown",
   "id": "surprising-granny",
   "metadata": {},
   "source": [
    "#### <font color= #990066> Resultados: </font> \n",
    "\n",
    "Para este ejemplo observamos que el mu1 fue negativo, esto significa ausencia por lo tanto la mayoria de la muestra no fuma."
   ]
  },
  {
   "cell_type": "code",
   "execution_count": 12,
   "id": "dated-coral",
   "metadata": {},
   "outputs": [
    {
     "data": {
      "text/plain": [
       "region\n",
       "northeast   -0.019301\n",
       "northwest   -0.072340\n",
       "southeast    0.163980\n",
       "southwest   -0.072340\n",
       "media_f      0.000000\n",
       "Name: media_c, dtype: float64"
      ]
     },
     "execution_count": 12,
     "metadata": {},
     "output_type": "execute_result"
    }
   ],
   "source": [
    "# media por columnas menos la media global \n",
    "mu2 = tab_log.iloc[-1,:]-mu\n",
    "mu2"
   ]
  },
  {
   "cell_type": "code",
   "execution_count": 13,
   "id": "secret-committee",
   "metadata": {},
   "outputs": [
    {
     "data": {
      "text/plain": [
       "array([[4.87688435, 4.82384583, 5.06016565, 4.82384583, 4.89618542],\n",
       "       [4.87688435, 4.82384583, 5.06016565, 4.82384583, 4.89618542],\n",
       "       [4.87688435, 4.82384583, 5.06016565, 4.82384583, 4.89618542]])"
      ]
     },
     "execution_count": 13,
     "metadata": {},
     "output_type": "execute_result"
    }
   ],
   "source": [
    "# Tratar de recuperar los logaritmos \n",
    "tab_rec = np.ones(np.shape(tab_log))*mu\n",
    "for k in np.arange(np.shape(tab_log)[0]):\n",
    "    tab_rec[k,:] = tab_rec[k,:]+mu2\n",
    "tab_rec"
   ]
  },
  {
   "cell_type": "code",
   "execution_count": 14,
   "id": "exclusive-performer",
   "metadata": {},
   "outputs": [
    {
     "data": {
      "text/plain": [
       "array([[5.56396023, 5.51092172, 5.74724153, 5.51092172],\n",
       "       [4.18980847, 4.13676995, 4.37308977, 4.13676995]])"
      ]
     },
     "execution_count": 14,
     "metadata": {},
     "output_type": "execute_result"
    }
   ],
   "source": [
    "for k in np.arange(np.shape(tab_log)[1]):\n",
    "    tab_rec[:,k] = tab_rec[:,k]+mu1\n",
    "tab_rec = tab_rec[0:-1,0:-1]\n",
    "tab_rec"
   ]
  },
  {
   "cell_type": "code",
   "execution_count": 15,
   "id": "external-question",
   "metadata": {},
   "outputs": [
    {
     "data": {
      "text/html": [
       "<div>\n",
       "<style scoped>\n",
       "    .dataframe tbody tr th:only-of-type {\n",
       "        vertical-align: middle;\n",
       "    }\n",
       "\n",
       "    .dataframe tbody tr th {\n",
       "        vertical-align: top;\n",
       "    }\n",
       "\n",
       "    .dataframe thead th {\n",
       "        text-align: right;\n",
       "    }\n",
       "</style>\n",
       "<table border=\"1\" class=\"dataframe\">\n",
       "  <thead>\n",
       "    <tr style=\"text-align: right;\">\n",
       "      <th>region</th>\n",
       "      <th>northeast</th>\n",
       "      <th>northwest</th>\n",
       "      <th>southeast</th>\n",
       "      <th>southwest</th>\n",
       "      <th>media_f</th>\n",
       "    </tr>\n",
       "    <tr>\n",
       "      <th>smoker</th>\n",
       "      <th></th>\n",
       "      <th></th>\n",
       "      <th></th>\n",
       "      <th></th>\n",
       "      <th></th>\n",
       "    </tr>\n",
       "  </thead>\n",
       "  <tbody>\n",
       "    <tr>\n",
       "      <th>0</th>\n",
       "      <td>-0.014884</td>\n",
       "      <td>0.076327</td>\n",
       "      <td>-0.13777</td>\n",
       "      <td>0.076327</td>\n",
       "      <td>0.687076</td>\n",
       "    </tr>\n",
       "    <tr>\n",
       "      <th>1</th>\n",
       "      <td>0.014884</td>\n",
       "      <td>-0.076327</td>\n",
       "      <td>0.13777</td>\n",
       "      <td>-0.076327</td>\n",
       "      <td>-0.687076</td>\n",
       "    </tr>\n",
       "    <tr>\n",
       "      <th>media_c</th>\n",
       "      <td>-0.019301</td>\n",
       "      <td>-0.072340</td>\n",
       "      <td>0.16398</td>\n",
       "      <td>-0.072340</td>\n",
       "      <td>0.000000</td>\n",
       "    </tr>\n",
       "  </tbody>\n",
       "</table>\n",
       "</div>"
      ],
      "text/plain": [
       "region   northeast  northwest  southeast  southwest   media_f\n",
       "smoker                                                       \n",
       "0        -0.014884   0.076327   -0.13777   0.076327  0.687076\n",
       "1         0.014884  -0.076327    0.13777  -0.076327 -0.687076\n",
       "media_c  -0.019301  -0.072340    0.16398  -0.072340  0.000000"
      ]
     },
     "execution_count": 15,
     "metadata": {},
     "output_type": "execute_result"
    }
   ],
   "source": [
    "tab_mu12 = pd.DataFrame(np.transpose(np.transpose(tab_log-mu-mu2)-mu1))\n",
    "tab_mu12.iloc[:,-1] = mu1\n",
    "tab_mu12.iloc[-1,:] = mu2\n",
    "tab_mu12"
   ]
  },
  {
   "cell_type": "code",
   "execution_count": 16,
   "id": "executive-pittsburgh",
   "metadata": {},
   "outputs": [
    {
     "data": {
      "text/html": [
       "<div>\n",
       "<style scoped>\n",
       "    .dataframe tbody tr th:only-of-type {\n",
       "        vertical-align: middle;\n",
       "    }\n",
       "\n",
       "    .dataframe tbody tr th {\n",
       "        vertical-align: top;\n",
       "    }\n",
       "\n",
       "    .dataframe thead th {\n",
       "        text-align: right;\n",
       "    }\n",
       "</style>\n",
       "<table border=\"1\" class=\"dataframe\">\n",
       "  <thead>\n",
       "    <tr style=\"text-align: right;\">\n",
       "      <th>region</th>\n",
       "      <th>northeast</th>\n",
       "      <th>northwest</th>\n",
       "      <th>southeast</th>\n",
       "      <th>southwest</th>\n",
       "    </tr>\n",
       "    <tr>\n",
       "      <th>smoker</th>\n",
       "      <th></th>\n",
       "      <th></th>\n",
       "      <th></th>\n",
       "      <th></th>\n",
       "    </tr>\n",
       "  </thead>\n",
       "  <tbody>\n",
       "    <tr>\n",
       "      <th>0</th>\n",
       "      <td>5.549076</td>\n",
       "      <td>5.587249</td>\n",
       "      <td>5.609472</td>\n",
       "      <td>5.587249</td>\n",
       "    </tr>\n",
       "    <tr>\n",
       "      <th>1</th>\n",
       "      <td>4.204693</td>\n",
       "      <td>4.060443</td>\n",
       "      <td>4.510860</td>\n",
       "      <td>4.060443</td>\n",
       "    </tr>\n",
       "  </tbody>\n",
       "</table>\n",
       "</div>"
      ],
      "text/plain": [
       "region  northeast  northwest  southeast  southwest\n",
       "smoker                                            \n",
       "0        5.549076   5.587249   5.609472   5.587249\n",
       "1        4.204693   4.060443   4.510860   4.060443"
      ]
     },
     "execution_count": 16,
     "metadata": {},
     "output_type": "execute_result"
    }
   ],
   "source": [
    "tab_rec_mod = tab_rec+tab_mu12.iloc[0:-1,0:-1]\n",
    "tab_rec_mod"
   ]
  },
  {
   "cell_type": "markdown",
   "id": "premier-makeup",
   "metadata": {},
   "source": [
    "#### <font color= #990066> Resultados: </font> \n",
    "\n",
    "Nos da igual que la primera tabla lo que significa que se hizo bien la recuperación de los logaritmos "
   ]
  },
  {
   "cell_type": "code",
   "execution_count": 17,
   "id": "printable-maker",
   "metadata": {},
   "outputs": [
    {
     "data": {
      "text/plain": [
       "(7.343477761407069,\n",
       " 0.5000675325877666,\n",
       " 8,\n",
       " array([[ 257.65022422,  258.44544096,  289.45889387,  258.44544096,\n",
       "         1064.        ],\n",
       "        [  66.34977578,   66.55455904,   74.54110613,   66.55455904,\n",
       "          274.        ],\n",
       "        [ 324.        ,  325.        ,  364.        ,  325.        ,\n",
       "         1338.        ]]))"
      ]
     },
     "execution_count": 17,
     "metadata": {},
     "output_type": "execute_result"
    }
   ],
   "source": [
    "# Analisis de las tablas de contigencia \n",
    "import scipy.stats as stats\n",
    "# Analisis de 2 variables \n",
    "tabla1 = pd.crosstab(index=data['smoker'],columns=data['region'],margins=True)\n",
    "# Ho: Las variables son independientes (p>0.05)\n",
    "# Hi: Las variables no son independientes (p<0.05)\n",
    "stats.chi2_contingency(tabla1)"
   ]
  },
  {
   "cell_type": "markdown",
   "id": "material-alignment",
   "metadata": {},
   "source": [
    "#### <font color= #990066> Resultados: </font> \n",
    "\n",
    "El chi cuadrada no es tan grande por lo tanto no se rechaza la hipotesis nula y p-value es mayor que 0.05  por lo tanto son independientes"
   ]
  },
  {
   "cell_type": "markdown",
   "id": "featured-harrison",
   "metadata": {},
   "source": [
    "#### <font color= #990066> Ejercicio#2 </font>"
   ]
  },
  {
   "cell_type": "code",
   "execution_count": 18,
   "id": "measured-oriental",
   "metadata": {},
   "outputs": [
    {
     "data": {
      "text/html": [
       "<div>\n",
       "<style scoped>\n",
       "    .dataframe tbody tr th:only-of-type {\n",
       "        vertical-align: middle;\n",
       "    }\n",
       "\n",
       "    .dataframe tbody tr th {\n",
       "        vertical-align: top;\n",
       "    }\n",
       "\n",
       "    .dataframe thead th {\n",
       "        text-align: right;\n",
       "    }\n",
       "</style>\n",
       "<table border=\"1\" class=\"dataframe\">\n",
       "  <thead>\n",
       "    <tr style=\"text-align: right;\">\n",
       "      <th>children</th>\n",
       "      <th>0</th>\n",
       "      <th>1</th>\n",
       "      <th>2</th>\n",
       "      <th>3</th>\n",
       "      <th>4</th>\n",
       "      <th>5</th>\n",
       "      <th>All</th>\n",
       "    </tr>\n",
       "    <tr>\n",
       "      <th>smoker</th>\n",
       "      <th></th>\n",
       "      <th></th>\n",
       "      <th></th>\n",
       "      <th></th>\n",
       "      <th></th>\n",
       "      <th></th>\n",
       "      <th></th>\n",
       "    </tr>\n",
       "  </thead>\n",
       "  <tbody>\n",
       "    <tr>\n",
       "      <th>0</th>\n",
       "      <td>459</td>\n",
       "      <td>263</td>\n",
       "      <td>185</td>\n",
       "      <td>118</td>\n",
       "      <td>22</td>\n",
       "      <td>17</td>\n",
       "      <td>1064</td>\n",
       "    </tr>\n",
       "    <tr>\n",
       "      <th>1</th>\n",
       "      <td>115</td>\n",
       "      <td>61</td>\n",
       "      <td>55</td>\n",
       "      <td>39</td>\n",
       "      <td>3</td>\n",
       "      <td>1</td>\n",
       "      <td>274</td>\n",
       "    </tr>\n",
       "    <tr>\n",
       "      <th>All</th>\n",
       "      <td>574</td>\n",
       "      <td>324</td>\n",
       "      <td>240</td>\n",
       "      <td>157</td>\n",
       "      <td>25</td>\n",
       "      <td>18</td>\n",
       "      <td>1338</td>\n",
       "    </tr>\n",
       "  </tbody>\n",
       "</table>\n",
       "</div>"
      ],
      "text/plain": [
       "children    0    1    2    3   4   5   All\n",
       "smoker                                    \n",
       "0         459  263  185  118  22  17  1064\n",
       "1         115   61   55   39   3   1   274\n",
       "All       574  324  240  157  25  18  1338"
      ]
     },
     "execution_count": 18,
     "metadata": {},
     "output_type": "execute_result"
    }
   ],
   "source": [
    "#Creando la tabla de frecuencias \n",
    "tabla = pd.crosstab(index=data['smoker'], columns=data['children'],margins=True)\n",
    "tabla"
   ]
  },
  {
   "cell_type": "markdown",
   "id": "negative-marking",
   "metadata": {},
   "source": [
    "#### <font color= #990066> Resultados: </font> \n",
    "\n",
    "La tabla de frecuencias nos muestra que hay más personas que no fuman en comparación de las que si fuman por cantidad de hijos. La mayor cantidad de hijos que tienen las personas que no fuman es uno y para los que si fuman prefieren no tener hijos. La cantidad total de las personas que no fuman en esta muestra es 1064 y de las que si fuman 274 con respecto a cuantos hijos tienen."
   ]
  },
  {
   "cell_type": "code",
   "execution_count": 19,
   "id": "bound-switch",
   "metadata": {},
   "outputs": [
    {
     "data": {
      "text/html": [
       "<div>\n",
       "<style scoped>\n",
       "    .dataframe tbody tr th:only-of-type {\n",
       "        vertical-align: middle;\n",
       "    }\n",
       "\n",
       "    .dataframe tbody tr th {\n",
       "        vertical-align: top;\n",
       "    }\n",
       "\n",
       "    .dataframe thead th {\n",
       "        text-align: right;\n",
       "    }\n",
       "</style>\n",
       "<table border=\"1\" class=\"dataframe\">\n",
       "  <thead>\n",
       "    <tr style=\"text-align: right;\">\n",
       "      <th>children</th>\n",
       "      <th>0</th>\n",
       "      <th>1</th>\n",
       "      <th>2</th>\n",
       "      <th>3</th>\n",
       "      <th>4</th>\n",
       "      <th>5</th>\n",
       "    </tr>\n",
       "    <tr>\n",
       "      <th>smoker</th>\n",
       "      <th></th>\n",
       "      <th></th>\n",
       "      <th></th>\n",
       "      <th></th>\n",
       "      <th></th>\n",
       "      <th></th>\n",
       "    </tr>\n",
       "  </thead>\n",
       "  <tbody>\n",
       "    <tr>\n",
       "      <th>0</th>\n",
       "      <td>6.129050</td>\n",
       "      <td>5.572154</td>\n",
       "      <td>5.220356</td>\n",
       "      <td>4.770685</td>\n",
       "      <td>3.091042</td>\n",
       "      <td>2.833213</td>\n",
       "    </tr>\n",
       "    <tr>\n",
       "      <th>1</th>\n",
       "      <td>4.744932</td>\n",
       "      <td>4.110874</td>\n",
       "      <td>4.007333</td>\n",
       "      <td>3.663562</td>\n",
       "      <td>1.098612</td>\n",
       "      <td>0.000000</td>\n",
       "    </tr>\n",
       "  </tbody>\n",
       "</table>\n",
       "</div>"
      ],
      "text/plain": [
       "children         0         1         2         3         4         5\n",
       "smoker                                                              \n",
       "0         6.129050  5.572154  5.220356  4.770685  3.091042  2.833213\n",
       "1         4.744932  4.110874  4.007333  3.663562  1.098612  0.000000"
      ]
     },
     "execution_count": 19,
     "metadata": {},
     "output_type": "execute_result"
    }
   ],
   "source": [
    "# Aplicar logaritmos y medias de logaritmos\n",
    "tab_log = np.log(tabla.iloc[0:-1,0:-1])\n",
    "tab_log"
   ]
  },
  {
   "cell_type": "markdown",
   "id": "floating-sucking",
   "metadata": {},
   "source": [
    "En está tabla se calculan los logaritmos de cada apartado de la tabla."
   ]
  },
  {
   "cell_type": "code",
   "execution_count": 20,
   "id": "czech-freedom",
   "metadata": {},
   "outputs": [],
   "source": [
    "# Sacar las medias por columnas \n",
    "tab_log.loc['media_c'] = tab_log.mean(axis=0)\n",
    "# Sacar las medias por filas \n",
    "tab_log['media_f'] = tab_log.mean(axis=1)"
   ]
  },
  {
   "cell_type": "code",
   "execution_count": 21,
   "id": "threaded-treaty",
   "metadata": {},
   "outputs": [
    {
     "data": {
      "text/html": [
       "<div>\n",
       "<style scoped>\n",
       "    .dataframe tbody tr th:only-of-type {\n",
       "        vertical-align: middle;\n",
       "    }\n",
       "\n",
       "    .dataframe tbody tr th {\n",
       "        vertical-align: top;\n",
       "    }\n",
       "\n",
       "    .dataframe thead th {\n",
       "        text-align: right;\n",
       "    }\n",
       "</style>\n",
       "<table border=\"1\" class=\"dataframe\">\n",
       "  <thead>\n",
       "    <tr style=\"text-align: right;\">\n",
       "      <th>children</th>\n",
       "      <th>0</th>\n",
       "      <th>1</th>\n",
       "      <th>2</th>\n",
       "      <th>3</th>\n",
       "      <th>4</th>\n",
       "      <th>5</th>\n",
       "      <th>media_f</th>\n",
       "    </tr>\n",
       "    <tr>\n",
       "      <th>smoker</th>\n",
       "      <th></th>\n",
       "      <th></th>\n",
       "      <th></th>\n",
       "      <th></th>\n",
       "      <th></th>\n",
       "      <th></th>\n",
       "      <th></th>\n",
       "    </tr>\n",
       "  </thead>\n",
       "  <tbody>\n",
       "    <tr>\n",
       "      <th>0</th>\n",
       "      <td>6.129050</td>\n",
       "      <td>5.572154</td>\n",
       "      <td>5.220356</td>\n",
       "      <td>4.770685</td>\n",
       "      <td>3.091042</td>\n",
       "      <td>2.833213</td>\n",
       "      <td>4.602750</td>\n",
       "    </tr>\n",
       "    <tr>\n",
       "      <th>1</th>\n",
       "      <td>4.744932</td>\n",
       "      <td>4.110874</td>\n",
       "      <td>4.007333</td>\n",
       "      <td>3.663562</td>\n",
       "      <td>1.098612</td>\n",
       "      <td>0.000000</td>\n",
       "      <td>2.937552</td>\n",
       "    </tr>\n",
       "    <tr>\n",
       "      <th>media_c</th>\n",
       "      <td>5.436991</td>\n",
       "      <td>4.841514</td>\n",
       "      <td>4.613845</td>\n",
       "      <td>4.217123</td>\n",
       "      <td>2.094827</td>\n",
       "      <td>1.416607</td>\n",
       "      <td>3.770151</td>\n",
       "    </tr>\n",
       "  </tbody>\n",
       "</table>\n",
       "</div>"
      ],
      "text/plain": [
       "children         0         1         2         3         4         5   media_f\n",
       "smoker                                                                        \n",
       "0         6.129050  5.572154  5.220356  4.770685  3.091042  2.833213  4.602750\n",
       "1         4.744932  4.110874  4.007333  3.663562  1.098612  0.000000  2.937552\n",
       "media_c   5.436991  4.841514  4.613845  4.217123  2.094827  1.416607  3.770151"
      ]
     },
     "execution_count": 21,
     "metadata": {},
     "output_type": "execute_result"
    }
   ],
   "source": [
    "tab_log"
   ]
  },
  {
   "cell_type": "markdown",
   "id": "usual-firewall",
   "metadata": {},
   "source": [
    "#### <font color= #990066> Resultados: </font> \n",
    "\n",
    "Esta es la tabla de los logaritmos y le agregamos las medias logarítmicas por columna y por filas. Están nos permite identificar si hay algún sesgo en los datos si están muy diferentes los resultados entre sí, en este caso no hay problema por las medias no cambian mucho."
   ]
  },
  {
   "cell_type": "code",
   "execution_count": 22,
   "id": "confidential-transformation",
   "metadata": {},
   "outputs": [],
   "source": [
    "# Calcular mu, mu1,mu2\n",
    "# Seleccionar la media global de la tab_log\n",
    "mu = tab_log.iloc[-1,-1]\n"
   ]
  },
  {
   "cell_type": "code",
   "execution_count": 23,
   "id": "biblical-burst",
   "metadata": {},
   "outputs": [
    {
     "data": {
      "text/plain": [
       "smoker\n",
       "0          0.832599\n",
       "1         -0.832599\n",
       "media_c    0.000000\n",
       "Name: media_f, dtype: float64"
      ]
     },
     "execution_count": 23,
     "metadata": {},
     "output_type": "execute_result"
    }
   ],
   "source": [
    "# media por filas menos la media global \n",
    "mu1 = tab_log.iloc[:,-1]-mu\n",
    "mu1"
   ]
  },
  {
   "cell_type": "markdown",
   "id": "uniform-chuck",
   "metadata": {},
   "source": [
    "#### <font color= #990066> Resultados: </font> \n",
    "\n",
    "El negativo de el mu1 significa ausencia por lo tanto en esta muestra la mayoria no fuma."
   ]
  },
  {
   "cell_type": "code",
   "execution_count": 24,
   "id": "sunset-visiting",
   "metadata": {},
   "outputs": [
    {
     "data": {
      "text/plain": [
       "children\n",
       "0          1.666840\n",
       "1          1.071363\n",
       "2          0.843693\n",
       "3          0.446972\n",
       "4         -1.675324\n",
       "5         -2.353544\n",
       "media_f    0.000000\n",
       "Name: media_c, dtype: float64"
      ]
     },
     "execution_count": 24,
     "metadata": {},
     "output_type": "execute_result"
    }
   ],
   "source": [
    "# media por columnas menos la media global \n",
    "mu2 = tab_log.iloc[-1,:]-mu\n",
    "mu2"
   ]
  },
  {
   "cell_type": "code",
   "execution_count": 25,
   "id": "intended-thompson",
   "metadata": {},
   "outputs": [
    {
     "data": {
      "text/plain": [
       "array([[5.43699117, 4.84151395, 4.61384451, 4.21712314, 2.09482737,\n",
       "        1.41660667, 3.77015113],\n",
       "       [5.43699117, 4.84151395, 4.61384451, 4.21712314, 2.09482737,\n",
       "        1.41660667, 3.77015113],\n",
       "       [5.43699117, 4.84151395, 4.61384451, 4.21712314, 2.09482737,\n",
       "        1.41660667, 3.77015113]])"
      ]
     },
     "execution_count": 25,
     "metadata": {},
     "output_type": "execute_result"
    }
   ],
   "source": [
    "# Tratar de recuperar los logaritmos \n",
    "tab_rec = np.ones(np.shape(tab_log))*mu\n",
    "for k in np.arange(np.shape(tab_log)[0]):\n",
    "    tab_rec[k,:] = tab_rec[k,:]+mu2\n",
    "tab_rec"
   ]
  },
  {
   "cell_type": "code",
   "execution_count": 26,
   "id": "silent-bradford",
   "metadata": {},
   "outputs": [
    {
     "data": {
      "text/plain": [
       "array([[6.26959012, 5.6741129 , 5.44644345, 5.04972208, 2.92742632,\n",
       "        2.24920562],\n",
       "       [4.60439222, 4.008915  , 3.78124556, 3.38452419, 1.26222842,\n",
       "        0.58400772]])"
      ]
     },
     "execution_count": 26,
     "metadata": {},
     "output_type": "execute_result"
    }
   ],
   "source": [
    "for k in np.arange(np.shape(tab_log)[1]):\n",
    "    tab_rec[:,k] = tab_rec[:,k]+mu1\n",
    "tab_rec = tab_rec[0:-1,0:-1]\n",
    "tab_rec"
   ]
  },
  {
   "cell_type": "code",
   "execution_count": 27,
   "id": "understood-stadium",
   "metadata": {},
   "outputs": [
    {
     "data": {
      "text/html": [
       "<div>\n",
       "<style scoped>\n",
       "    .dataframe tbody tr th:only-of-type {\n",
       "        vertical-align: middle;\n",
       "    }\n",
       "\n",
       "    .dataframe tbody tr th {\n",
       "        vertical-align: top;\n",
       "    }\n",
       "\n",
       "    .dataframe thead th {\n",
       "        text-align: right;\n",
       "    }\n",
       "</style>\n",
       "<table border=\"1\" class=\"dataframe\">\n",
       "  <thead>\n",
       "    <tr style=\"text-align: right;\">\n",
       "      <th>children</th>\n",
       "      <th>0</th>\n",
       "      <th>1</th>\n",
       "      <th>2</th>\n",
       "      <th>3</th>\n",
       "      <th>4</th>\n",
       "      <th>5</th>\n",
       "      <th>media_f</th>\n",
       "    </tr>\n",
       "    <tr>\n",
       "      <th>smoker</th>\n",
       "      <th></th>\n",
       "      <th></th>\n",
       "      <th></th>\n",
       "      <th></th>\n",
       "      <th></th>\n",
       "      <th></th>\n",
       "      <th></th>\n",
       "    </tr>\n",
       "  </thead>\n",
       "  <tbody>\n",
       "    <tr>\n",
       "      <th>0</th>\n",
       "      <td>-0.14054</td>\n",
       "      <td>-0.101959</td>\n",
       "      <td>-0.226088</td>\n",
       "      <td>-0.279037</td>\n",
       "      <td>0.163616</td>\n",
       "      <td>0.584008</td>\n",
       "      <td>0.832599</td>\n",
       "    </tr>\n",
       "    <tr>\n",
       "      <th>1</th>\n",
       "      <td>0.14054</td>\n",
       "      <td>0.101959</td>\n",
       "      <td>0.226088</td>\n",
       "      <td>0.279037</td>\n",
       "      <td>-0.163616</td>\n",
       "      <td>-0.584008</td>\n",
       "      <td>-0.832599</td>\n",
       "    </tr>\n",
       "    <tr>\n",
       "      <th>media_c</th>\n",
       "      <td>1.66684</td>\n",
       "      <td>1.071363</td>\n",
       "      <td>0.843693</td>\n",
       "      <td>0.446972</td>\n",
       "      <td>-1.675324</td>\n",
       "      <td>-2.353544</td>\n",
       "      <td>0.000000</td>\n",
       "    </tr>\n",
       "  </tbody>\n",
       "</table>\n",
       "</div>"
      ],
      "text/plain": [
       "children        0         1         2         3         4         5   media_f\n",
       "smoker                                                                       \n",
       "0        -0.14054 -0.101959 -0.226088 -0.279037  0.163616  0.584008  0.832599\n",
       "1         0.14054  0.101959  0.226088  0.279037 -0.163616 -0.584008 -0.832599\n",
       "media_c   1.66684  1.071363  0.843693  0.446972 -1.675324 -2.353544  0.000000"
      ]
     },
     "execution_count": 27,
     "metadata": {},
     "output_type": "execute_result"
    }
   ],
   "source": [
    "tab_mu12 = pd.DataFrame(np.transpose(np.transpose(tab_log-mu-mu2)-mu1))\n",
    "tab_mu12.iloc[:,-1] = mu1\n",
    "tab_mu12.iloc[-1,:] = mu2\n",
    "tab_mu12"
   ]
  },
  {
   "cell_type": "code",
   "execution_count": 28,
   "id": "thirty-house",
   "metadata": {},
   "outputs": [
    {
     "data": {
      "text/html": [
       "<div>\n",
       "<style scoped>\n",
       "    .dataframe tbody tr th:only-of-type {\n",
       "        vertical-align: middle;\n",
       "    }\n",
       "\n",
       "    .dataframe tbody tr th {\n",
       "        vertical-align: top;\n",
       "    }\n",
       "\n",
       "    .dataframe thead th {\n",
       "        text-align: right;\n",
       "    }\n",
       "</style>\n",
       "<table border=\"1\" class=\"dataframe\">\n",
       "  <thead>\n",
       "    <tr style=\"text-align: right;\">\n",
       "      <th>children</th>\n",
       "      <th>0</th>\n",
       "      <th>1</th>\n",
       "      <th>2</th>\n",
       "      <th>3</th>\n",
       "      <th>4</th>\n",
       "      <th>5</th>\n",
       "    </tr>\n",
       "    <tr>\n",
       "      <th>smoker</th>\n",
       "      <th></th>\n",
       "      <th></th>\n",
       "      <th></th>\n",
       "      <th></th>\n",
       "      <th></th>\n",
       "      <th></th>\n",
       "    </tr>\n",
       "  </thead>\n",
       "  <tbody>\n",
       "    <tr>\n",
       "      <th>0</th>\n",
       "      <td>6.129050</td>\n",
       "      <td>5.572154</td>\n",
       "      <td>5.220356</td>\n",
       "      <td>4.770685</td>\n",
       "      <td>3.091042</td>\n",
       "      <td>2.833213</td>\n",
       "    </tr>\n",
       "    <tr>\n",
       "      <th>1</th>\n",
       "      <td>4.744932</td>\n",
       "      <td>4.110874</td>\n",
       "      <td>4.007333</td>\n",
       "      <td>3.663562</td>\n",
       "      <td>1.098612</td>\n",
       "      <td>0.000000</td>\n",
       "    </tr>\n",
       "  </tbody>\n",
       "</table>\n",
       "</div>"
      ],
      "text/plain": [
       "children         0         1         2         3         4         5\n",
       "smoker                                                              \n",
       "0         6.129050  5.572154  5.220356  4.770685  3.091042  2.833213\n",
       "1         4.744932  4.110874  4.007333  3.663562  1.098612  0.000000"
      ]
     },
     "execution_count": 28,
     "metadata": {},
     "output_type": "execute_result"
    }
   ],
   "source": [
    "tab_rec_mod = tab_rec+tab_mu12.iloc[0:-1,0:-1]\n",
    "tab_rec_mod"
   ]
  },
  {
   "cell_type": "markdown",
   "id": "completed-departure",
   "metadata": {},
   "source": [
    "#### <font color= #990066> Resultados: </font> \n",
    "\n",
    "Da igual que la tabla de frecuencias por lo tanto si se hizo bien la recuperación de logaritmos."
   ]
  },
  {
   "cell_type": "code",
   "execution_count": 29,
   "id": "agricultural-timer",
   "metadata": {},
   "outputs": [
    {
     "data": {
      "text/plain": [
       "(6.88771990494763,\n",
       " 0.8649433793260529,\n",
       " 12,\n",
       " array([[ 456.45440957,  257.65022422,  190.85201794,  124.8490284 ,\n",
       "           19.88041854,   14.31390135, 1064.        ],\n",
       "        [ 117.54559043,   66.34977578,   49.14798206,   32.1509716 ,\n",
       "            5.11958146,    3.68609865,  274.        ],\n",
       "        [ 574.        ,  324.        ,  240.        ,  157.        ,\n",
       "           25.        ,   18.        , 1338.        ]]))"
      ]
     },
     "execution_count": 29,
     "metadata": {},
     "output_type": "execute_result"
    }
   ],
   "source": [
    "# Analisis de las tablas de contigencia \n",
    "import scipy.stats as stats\n",
    "# Analisis de 2 variables \n",
    "tabla1 = pd.crosstab(index=data['smoker'],columns=data['children'],margins=True)\n",
    "# Ho: Las variables son independientes (p>0.05)\n",
    "# Hi: Las variables no son independientes (p<0.05)\n",
    "stats.chi2_contingency(tabla1)"
   ]
  },
  {
   "cell_type": "markdown",
   "id": "conventional-restriction",
   "metadata": {},
   "source": [
    "#### <font color= #990066> Resultados: </font> \n",
    "\n",
    "El chi cuadrada  es de 6.88771990494763 por lo tanto no se rechaza la hipotesis nula y p-value es mayor que 0.05 por lo tanto son independientes las variables analizadas previamente."
   ]
  },
  {
   "cell_type": "markdown",
   "id": "abroad-malta",
   "metadata": {},
   "source": [
    "#### <font color= #990066> Ejercicio#3 </font>"
   ]
  },
  {
   "cell_type": "code",
   "execution_count": 30,
   "id": "identical-scroll",
   "metadata": {},
   "outputs": [
    {
     "data": {
      "text/html": [
       "<div>\n",
       "<style scoped>\n",
       "    .dataframe tbody tr th:only-of-type {\n",
       "        vertical-align: middle;\n",
       "    }\n",
       "\n",
       "    .dataframe tbody tr th {\n",
       "        vertical-align: top;\n",
       "    }\n",
       "\n",
       "    .dataframe thead th {\n",
       "        text-align: right;\n",
       "    }\n",
       "</style>\n",
       "<table border=\"1\" class=\"dataframe\">\n",
       "  <thead>\n",
       "    <tr style=\"text-align: right;\">\n",
       "      <th>sex</th>\n",
       "      <th>female</th>\n",
       "      <th>male</th>\n",
       "      <th>All</th>\n",
       "    </tr>\n",
       "    <tr>\n",
       "      <th>smoker</th>\n",
       "      <th></th>\n",
       "      <th></th>\n",
       "      <th></th>\n",
       "    </tr>\n",
       "  </thead>\n",
       "  <tbody>\n",
       "    <tr>\n",
       "      <th>0</th>\n",
       "      <td>547</td>\n",
       "      <td>517</td>\n",
       "      <td>1064</td>\n",
       "    </tr>\n",
       "    <tr>\n",
       "      <th>1</th>\n",
       "      <td>115</td>\n",
       "      <td>159</td>\n",
       "      <td>274</td>\n",
       "    </tr>\n",
       "    <tr>\n",
       "      <th>All</th>\n",
       "      <td>662</td>\n",
       "      <td>676</td>\n",
       "      <td>1338</td>\n",
       "    </tr>\n",
       "  </tbody>\n",
       "</table>\n",
       "</div>"
      ],
      "text/plain": [
       "sex     female  male   All\n",
       "smoker                    \n",
       "0          547   517  1064\n",
       "1          115   159   274\n",
       "All        662   676  1338"
      ]
     },
     "execution_count": 30,
     "metadata": {},
     "output_type": "execute_result"
    }
   ],
   "source": [
    "#Creando la tabla de frecuencias \n",
    "tabla = pd.crosstab(index=data['smoker'], columns=data['sex'],margins=True)\n",
    "tabla"
   ]
  },
  {
   "cell_type": "markdown",
   "id": "intensive-klein",
   "metadata": {},
   "source": [
    "#### <font color= #990066> Resultados: </font> \n",
    "\n",
    "La tabla de frecuencias nos muestra que hay más personas que no fuman en comparación de las que si fuman entre hombres y mujeres. Las mujeres tienen un número más alto de personas que no fuman en comparación con los hombres.Los hombres tiene un número más alto de personas que si fuman en comparación con las mujeres. La cantidad total de las personas que no fuman en esta muestra es 1064 y de las que si fuman 274 con respecto a cuantos hijos tienen."
   ]
  },
  {
   "cell_type": "code",
   "execution_count": 31,
   "id": "committed-controversy",
   "metadata": {},
   "outputs": [
    {
     "data": {
      "text/html": [
       "<div>\n",
       "<style scoped>\n",
       "    .dataframe tbody tr th:only-of-type {\n",
       "        vertical-align: middle;\n",
       "    }\n",
       "\n",
       "    .dataframe tbody tr th {\n",
       "        vertical-align: top;\n",
       "    }\n",
       "\n",
       "    .dataframe thead th {\n",
       "        text-align: right;\n",
       "    }\n",
       "</style>\n",
       "<table border=\"1\" class=\"dataframe\">\n",
       "  <thead>\n",
       "    <tr style=\"text-align: right;\">\n",
       "      <th>sex</th>\n",
       "      <th>female</th>\n",
       "      <th>male</th>\n",
       "    </tr>\n",
       "    <tr>\n",
       "      <th>smoker</th>\n",
       "      <th></th>\n",
       "      <th></th>\n",
       "    </tr>\n",
       "  </thead>\n",
       "  <tbody>\n",
       "    <tr>\n",
       "      <th>0</th>\n",
       "      <td>6.304449</td>\n",
       "      <td>6.248043</td>\n",
       "    </tr>\n",
       "    <tr>\n",
       "      <th>1</th>\n",
       "      <td>4.744932</td>\n",
       "      <td>5.068904</td>\n",
       "    </tr>\n",
       "  </tbody>\n",
       "</table>\n",
       "</div>"
      ],
      "text/plain": [
       "sex       female      male\n",
       "smoker                    \n",
       "0       6.304449  6.248043\n",
       "1       4.744932  5.068904"
      ]
     },
     "execution_count": 31,
     "metadata": {},
     "output_type": "execute_result"
    }
   ],
   "source": [
    "# Aplicar logaritmos y medias de logaritmos\n",
    "tab_log = np.log(tabla.iloc[0:-1,0:-1])\n",
    "tab_log"
   ]
  },
  {
   "cell_type": "markdown",
   "id": "median-science",
   "metadata": {},
   "source": [
    "En está tabla se calculan los logaritmos de cada apartado de la tabla."
   ]
  },
  {
   "cell_type": "code",
   "execution_count": 32,
   "id": "excited-prisoner",
   "metadata": {},
   "outputs": [],
   "source": [
    "# Sacar las medias por columnas \n",
    "tab_log.loc['media_c'] = tab_log.mean(axis=0)\n",
    "# Sacar las medias por filas \n",
    "tab_log['media_f'] = tab_log.mean(axis=1)"
   ]
  },
  {
   "cell_type": "code",
   "execution_count": 33,
   "id": "peripheral-pearl",
   "metadata": {},
   "outputs": [
    {
     "data": {
      "text/html": [
       "<div>\n",
       "<style scoped>\n",
       "    .dataframe tbody tr th:only-of-type {\n",
       "        vertical-align: middle;\n",
       "    }\n",
       "\n",
       "    .dataframe tbody tr th {\n",
       "        vertical-align: top;\n",
       "    }\n",
       "\n",
       "    .dataframe thead th {\n",
       "        text-align: right;\n",
       "    }\n",
       "</style>\n",
       "<table border=\"1\" class=\"dataframe\">\n",
       "  <thead>\n",
       "    <tr style=\"text-align: right;\">\n",
       "      <th>sex</th>\n",
       "      <th>female</th>\n",
       "      <th>male</th>\n",
       "      <th>media_f</th>\n",
       "    </tr>\n",
       "    <tr>\n",
       "      <th>smoker</th>\n",
       "      <th></th>\n",
       "      <th></th>\n",
       "      <th></th>\n",
       "    </tr>\n",
       "  </thead>\n",
       "  <tbody>\n",
       "    <tr>\n",
       "      <th>0</th>\n",
       "      <td>6.304449</td>\n",
       "      <td>6.248043</td>\n",
       "      <td>6.276246</td>\n",
       "    </tr>\n",
       "    <tr>\n",
       "      <th>1</th>\n",
       "      <td>4.744932</td>\n",
       "      <td>5.068904</td>\n",
       "      <td>4.906918</td>\n",
       "    </tr>\n",
       "    <tr>\n",
       "      <th>media_c</th>\n",
       "      <td>5.524690</td>\n",
       "      <td>5.658474</td>\n",
       "      <td>5.591582</td>\n",
       "    </tr>\n",
       "  </tbody>\n",
       "</table>\n",
       "</div>"
      ],
      "text/plain": [
       "sex        female      male   media_f\n",
       "smoker                               \n",
       "0        6.304449  6.248043  6.276246\n",
       "1        4.744932  5.068904  4.906918\n",
       "media_c  5.524690  5.658474  5.591582"
      ]
     },
     "execution_count": 33,
     "metadata": {},
     "output_type": "execute_result"
    }
   ],
   "source": [
    "tab_log"
   ]
  },
  {
   "cell_type": "markdown",
   "id": "random-fields",
   "metadata": {},
   "source": [
    "#### <font color= #990066> Resultados: </font> \n",
    "\n",
    "Esta es la tabla de los logaritmos y le agregamos las medias logarítmicas por columna y por filas. Están nos permite identificar si hay algún sesgo en los datos si están muy diferentes los resultados entre sí, en este caso no hay problema por las medias no cambian mucho."
   ]
  },
  {
   "cell_type": "code",
   "execution_count": 34,
   "id": "removable-roots",
   "metadata": {},
   "outputs": [
    {
     "data": {
      "text/plain": [
       "5.591582001878473"
      ]
     },
     "execution_count": 34,
     "metadata": {},
     "output_type": "execute_result"
    }
   ],
   "source": [
    "# Calcular mu, mu1,mu2\n",
    "# Seleccionar la media global de la tab_log\n",
    "mu = tab_log.iloc[-1,-1]\n",
    "mu"
   ]
  },
  {
   "cell_type": "code",
   "execution_count": 35,
   "id": "subsequent-dragon",
   "metadata": {},
   "outputs": [
    {
     "data": {
      "text/plain": [
       "smoker\n",
       "0          0.684664\n",
       "1         -0.684664\n",
       "media_c    0.000000\n",
       "Name: media_f, dtype: float64"
      ]
     },
     "execution_count": 35,
     "metadata": {},
     "output_type": "execute_result"
    }
   ],
   "source": [
    "# media por filas menos la media global \n",
    "mu1 = tab_log.iloc[:,-1]-mu\n",
    "mu1"
   ]
  },
  {
   "cell_type": "markdown",
   "id": "streaming-waste",
   "metadata": {},
   "source": [
    "#### <font color= #990066> Resultados: </font> \n",
    "\n",
    "El negativo del mu1 significa ausencia por lo tanto podemos decir que la mayoria no fuman"
   ]
  },
  {
   "cell_type": "code",
   "execution_count": 36,
   "id": "deadly-bailey",
   "metadata": {},
   "outputs": [
    {
     "data": {
      "text/plain": [
       "sex\n",
       "female    -0.066892\n",
       "male       0.066892\n",
       "media_f    0.000000\n",
       "Name: media_c, dtype: float64"
      ]
     },
     "execution_count": 36,
     "metadata": {},
     "output_type": "execute_result"
    }
   ],
   "source": [
    "# media por columnas menos la media global \n",
    "mu2 = tab_log.iloc[-1,:]-mu\n",
    "mu2"
   ]
  },
  {
   "cell_type": "code",
   "execution_count": 37,
   "id": "hydraulic-victim",
   "metadata": {},
   "outputs": [
    {
     "data": {
      "text/plain": [
       "array([[5.52469047, 5.65847354, 5.591582  ],\n",
       "       [5.52469047, 5.65847354, 5.591582  ],\n",
       "       [5.52469047, 5.65847354, 5.591582  ]])"
      ]
     },
     "execution_count": 37,
     "metadata": {},
     "output_type": "execute_result"
    }
   ],
   "source": [
    "# Tratar de recuperar los logaritmos \n",
    "tab_rec = np.ones(np.shape(tab_log))*mu\n",
    "for k in np.arange(np.shape(tab_log)[0]):\n",
    "    tab_rec[k,:] = tab_rec[k,:]+mu2\n",
    "tab_rec"
   ]
  },
  {
   "cell_type": "code",
   "execution_count": 38,
   "id": "answering-magnitude",
   "metadata": {},
   "outputs": [
    {
     "data": {
      "text/plain": [
       "array([[6.2093543 , 6.34313737],\n",
       "       [4.84002663, 4.9738097 ]])"
      ]
     },
     "execution_count": 38,
     "metadata": {},
     "output_type": "execute_result"
    }
   ],
   "source": [
    "for k in np.arange(np.shape(tab_log)[1]):\n",
    "    tab_rec[:,k] = tab_rec[:,k]+mu1\n",
    "tab_rec = tab_rec[0:-1,0:-1]\n",
    "tab_rec"
   ]
  },
  {
   "cell_type": "code",
   "execution_count": 39,
   "id": "driven-council",
   "metadata": {},
   "outputs": [
    {
     "data": {
      "text/html": [
       "<div>\n",
       "<style scoped>\n",
       "    .dataframe tbody tr th:only-of-type {\n",
       "        vertical-align: middle;\n",
       "    }\n",
       "\n",
       "    .dataframe tbody tr th {\n",
       "        vertical-align: top;\n",
       "    }\n",
       "\n",
       "    .dataframe thead th {\n",
       "        text-align: right;\n",
       "    }\n",
       "</style>\n",
       "<table border=\"1\" class=\"dataframe\">\n",
       "  <thead>\n",
       "    <tr style=\"text-align: right;\">\n",
       "      <th>sex</th>\n",
       "      <th>female</th>\n",
       "      <th>male</th>\n",
       "      <th>media_f</th>\n",
       "    </tr>\n",
       "    <tr>\n",
       "      <th>smoker</th>\n",
       "      <th></th>\n",
       "      <th></th>\n",
       "      <th></th>\n",
       "    </tr>\n",
       "  </thead>\n",
       "  <tbody>\n",
       "    <tr>\n",
       "      <th>0</th>\n",
       "      <td>0.095095</td>\n",
       "      <td>-0.095095</td>\n",
       "      <td>0.684664</td>\n",
       "    </tr>\n",
       "    <tr>\n",
       "      <th>1</th>\n",
       "      <td>-0.095095</td>\n",
       "      <td>0.095095</td>\n",
       "      <td>-0.684664</td>\n",
       "    </tr>\n",
       "    <tr>\n",
       "      <th>media_c</th>\n",
       "      <td>-0.066892</td>\n",
       "      <td>0.066892</td>\n",
       "      <td>0.000000</td>\n",
       "    </tr>\n",
       "  </tbody>\n",
       "</table>\n",
       "</div>"
      ],
      "text/plain": [
       "sex        female      male   media_f\n",
       "smoker                               \n",
       "0        0.095095 -0.095095  0.684664\n",
       "1       -0.095095  0.095095 -0.684664\n",
       "media_c -0.066892  0.066892  0.000000"
      ]
     },
     "execution_count": 39,
     "metadata": {},
     "output_type": "execute_result"
    }
   ],
   "source": [
    "tab_mu12 = pd.DataFrame(np.transpose(np.transpose(tab_log-mu-mu2)-mu1))\n",
    "tab_mu12.iloc[:,-1] = mu1\n",
    "tab_mu12.iloc[-1,:] = mu2\n",
    "tab_mu12"
   ]
  },
  {
   "cell_type": "code",
   "execution_count": 40,
   "id": "headed-ottawa",
   "metadata": {},
   "outputs": [
    {
     "data": {
      "text/html": [
       "<div>\n",
       "<style scoped>\n",
       "    .dataframe tbody tr th:only-of-type {\n",
       "        vertical-align: middle;\n",
       "    }\n",
       "\n",
       "    .dataframe tbody tr th {\n",
       "        vertical-align: top;\n",
       "    }\n",
       "\n",
       "    .dataframe thead th {\n",
       "        text-align: right;\n",
       "    }\n",
       "</style>\n",
       "<table border=\"1\" class=\"dataframe\">\n",
       "  <thead>\n",
       "    <tr style=\"text-align: right;\">\n",
       "      <th>sex</th>\n",
       "      <th>female</th>\n",
       "      <th>male</th>\n",
       "    </tr>\n",
       "    <tr>\n",
       "      <th>smoker</th>\n",
       "      <th></th>\n",
       "      <th></th>\n",
       "    </tr>\n",
       "  </thead>\n",
       "  <tbody>\n",
       "    <tr>\n",
       "      <th>0</th>\n",
       "      <td>6.304449</td>\n",
       "      <td>6.248043</td>\n",
       "    </tr>\n",
       "    <tr>\n",
       "      <th>1</th>\n",
       "      <td>4.744932</td>\n",
       "      <td>5.068904</td>\n",
       "    </tr>\n",
       "  </tbody>\n",
       "</table>\n",
       "</div>"
      ],
      "text/plain": [
       "sex       female      male\n",
       "smoker                    \n",
       "0       6.304449  6.248043\n",
       "1       4.744932  5.068904"
      ]
     },
     "execution_count": 40,
     "metadata": {},
     "output_type": "execute_result"
    }
   ],
   "source": [
    "tab_rec_mod = tab_rec+tab_mu12.iloc[0:-1,0:-1]\n",
    "tab_rec_mod"
   ]
  },
  {
   "cell_type": "markdown",
   "id": "timely-parish",
   "metadata": {},
   "source": [
    "#### <font color= #990066> Resultados: </font> \n",
    "\n",
    "Nos da igual que la primera tabla lo que significa que se hizo bien la recuperación de los logaritmos "
   ]
  },
  {
   "cell_type": "code",
   "execution_count": 41,
   "id": "small-seven",
   "metadata": {},
   "outputs": [
    {
     "data": {
      "text/plain": [
       "(7.765921028604452,\n",
       " 0.10053907554919742,\n",
       " 4,\n",
       " array([[ 526.43348281,  537.56651719, 1064.        ],\n",
       "        [ 135.56651719,  138.43348281,  274.        ],\n",
       "        [ 662.        ,  676.        , 1338.        ]]))"
      ]
     },
     "execution_count": 41,
     "metadata": {},
     "output_type": "execute_result"
    }
   ],
   "source": [
    "# Analisis de las tablas de contigencia \n",
    "import scipy.stats as stats\n",
    "# Analisis de 2 variables \n",
    "tabla1 = pd.crosstab(index=data['smoker'],columns=data['sex'],margins=True)\n",
    "# Ho: Las variables son independientes (p>0.05)\n",
    "# Hi: Las variables no son independientes (p<0.05)\n",
    "stats.chi2_contingency(tabla1)"
   ]
  },
  {
   "cell_type": "markdown",
   "id": "annoying-gauge",
   "metadata": {},
   "source": [
    "#### <font color= #990066> Resultados: </font> \n",
    "\n",
    "El chi 2 es de 7.765921028604452 ´por lo tanto se acepta la hipotesis nula y el p-value es de 0.10053907554919742 lo que significa que es mayor que 0.05 por lo tanto son independientes las variables"
   ]
  },
  {
   "cell_type": "markdown",
   "id": "cheap-supply",
   "metadata": {},
   "source": [
    "### <font color= #990066> Conclusiones: </font> "
   ]
  },
  {
   "cell_type": "markdown",
   "id": "double-david",
   "metadata": {},
   "source": [
    "Con referencia a los resultados que obtuvimos en esta práctica en los tres ejercicios logramos notar que las variables son independientes a la variable si fuma o no fuma el usuario. Considero que esta practica me ayudo a repasar lo conocimientos que obtuvimos en clase acerca de el tema Log-lineal "
   ]
  },
  {
   "cell_type": "code",
   "execution_count": null,
   "id": "urban-meter",
   "metadata": {},
   "outputs": [],
   "source": []
  }
 ],
 "metadata": {
  "kernelspec": {
   "display_name": "Python 3",
   "language": "python",
   "name": "python3"
  },
  "language_info": {
   "codemirror_mode": {
    "name": "ipython",
    "version": 3
   },
   "file_extension": ".py",
   "mimetype": "text/x-python",
   "name": "python",
   "nbconvert_exporter": "python",
   "pygments_lexer": "ipython3",
   "version": "3.8.5"
  }
 },
 "nbformat": 4,
 "nbformat_minor": 5
}
