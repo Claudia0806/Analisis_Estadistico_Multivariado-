{
 "cells": [
  {
   "cell_type": "markdown",
   "id": "spare-drilling",
   "metadata": {},
   "source": [
    "<img style=\"float: right; margin: 0px 0px 15px 15px;\" src=\"https://revistasociosams.com/wp-content/uploads/2021/06/kellogs-6-razones.jpg\" width=\"350px\" height=\"180px\" />\n",
    "\n",
    "# <font color= #653700> Análisis Estadístico Multivariado </font>\n",
    "\n",
    "- <Strong> `Claudia Celeste Castillejos Jáuregui` </Strong>\n",
    "- <Strong> `12 mayo 2022`</Strong>\n",
    "- <Strong> `Practica #6`</Strong>\n",
    "- <Strong> `claudia.castillejos@iteso.mx` </Strong> \n",
    "- <Strong> `Rocio Carrasco Navarro` </Strong> "
   ]
  },
  {
   "cell_type": "markdown",
   "id": "outside-digest",
   "metadata": {},
   "source": [
    "### <font color= #653700> Apéndice </font>\n",
    "\n",
    "- Portada.\n",
    "- Introducción.\n",
    "- Descripción de la base de datos.\n",
    "- Objetivo.\n",
    "- Desarrollo.\n",
    "- Resultados\n",
    "- Conclusiones."
   ]
  },
  {
   "cell_type": "markdown",
   "id": "criminal-creativity",
   "metadata": {},
   "source": [
    "### <font color= #653700> Introducción </font>\n",
    "\n",
    "En esta práctica utilizaremos un algoritmo de cluster jerarquico (HCluster) y uno no jerarquico (Kmeans) para determinar los grupos optimos que se deberian usar para esta base de datos."
   ]
  },
  {
   "cell_type": "markdown",
   "id": "continental-gauge",
   "metadata": {},
   "source": [
    "### <font color= #653700> Descripción de la base de datos </font>\n",
    "\n",
    "El conjunto de datos fue recuperado de la base de datos Kaggle. Incluye 77 registros y 15 columnas.\n",
    "\n",
    "Variables predictoras:\n",
    "\n",
    "* Nombre: Nombre del cereal\n",
    "\n",
    "* tipo:\n",
    "\n",
    "      - F = frío\n",
    "      - C = caliente\n",
    "      \n",
    "* calorías: calorías por porción\n",
    "\n",
    "* proteína: gramos de proteína\n",
    "\n",
    "* grasa: gramos de grasa\n",
    "\n",
    "* sodio: miligramos de sodio\n",
    "\n",
    "* fibra: gramos de fibra dietética\n",
    "\n",
    "* carbo: gramos de carbohidratos complejos\n",
    "\n",
    "* azúcares: gramos de azúcares\n",
    "\n",
    "* potasio: miligramos de potasio\n",
    "\n",
    "* vitaminas: vitaminas y minerales: 0, 25 o 100, lo que indica el porcentaje típico recomendado por la FDA\n",
    "\n",
    "* estante: estante de exhibición (1, 2 o 3, contando desde el piso)\n",
    "\n",
    "* peso: peso en onzas de una porción\n",
    "\n",
    "* tazas: número de tazas en una porción\n",
    "\n",
    "Variable de respuesta\n",
    "\n",
    "* mfr: fabricante de cereales\n",
    "\n",
    "      - A = Productos Alimenticios Caseros Estadounidenses\n",
    "      - G = molinos generales\n",
    "      - K = Kelloggs\n",
    "      - N = Nabisco\n",
    "      - P = publicación\n",
    "      - Q = Avena Quaker\n",
    "      - R = Ralston Purina\n"
   ]
  },
  {
   "cell_type": "markdown",
   "id": "varied-internship",
   "metadata": {},
   "source": [
    "### <font color= #653700> Objetivo </font>\n",
    "\n",
    "El  objetivo  específico  de esta practica  es  agrupar  objetos  por  similitud,  en  grupos  o  conjuntos  de \n",
    "manera que los miembros del mismo grupo tengan características similares."
   ]
  },
  {
   "cell_type": "markdown",
   "id": "korean-cyprus",
   "metadata": {},
   "source": [
    "### <font color= #653700> Desarrollo </font>"
   ]
  },
  {
   "cell_type": "code",
   "execution_count": 3,
   "id": "respective-harris",
   "metadata": {},
   "outputs": [],
   "source": [
    "# Importar librerias\n",
    "import pandas as pd\n",
    "import numpy as np\n",
    "import matplotlib.pyplot as plt\n",
    "import seaborn as sb\n",
    "from scipy.cluster import hierarchy\n",
    "import scipy.spatial.distance as sc\n",
    "from mpl_toolkits.mplot3d import Axes3D\n",
    "from sklearn.cluster import KMeans\n",
    "from sklearn.metrics import pairwise_distances_argmin_min\n",
    "from mpl_toolkits.mplot3d import Axes3D\n",
    "from sklearn.preprocessing import MinMaxScaler\n",
    "plt.rcParams['figure.figsize'] = (8, 8)\n",
    "plt.style.use('ggplot')"
   ]
  },
  {
   "cell_type": "code",
   "execution_count": 4,
   "id": "gentle-satin",
   "metadata": {},
   "outputs": [
    {
     "data": {
      "text/html": [
       "<div>\n",
       "<style scoped>\n",
       "    .dataframe tbody tr th:only-of-type {\n",
       "        vertical-align: middle;\n",
       "    }\n",
       "\n",
       "    .dataframe tbody tr th {\n",
       "        vertical-align: top;\n",
       "    }\n",
       "\n",
       "    .dataframe thead th {\n",
       "        text-align: right;\n",
       "    }\n",
       "</style>\n",
       "<table border=\"1\" class=\"dataframe\">\n",
       "  <thead>\n",
       "    <tr style=\"text-align: right;\">\n",
       "      <th></th>\n",
       "      <th>name</th>\n",
       "      <th>mfr</th>\n",
       "      <th>type</th>\n",
       "      <th>calories</th>\n",
       "      <th>protein</th>\n",
       "      <th>fat</th>\n",
       "      <th>sodium</th>\n",
       "      <th>fiber</th>\n",
       "      <th>carbo</th>\n",
       "      <th>sugars</th>\n",
       "      <th>potass</th>\n",
       "      <th>vitamins</th>\n",
       "      <th>shelf</th>\n",
       "      <th>weight</th>\n",
       "      <th>cups</th>\n",
       "    </tr>\n",
       "  </thead>\n",
       "  <tbody>\n",
       "    <tr>\n",
       "      <th>0</th>\n",
       "      <td>100% Bran</td>\n",
       "      <td>N</td>\n",
       "      <td>C</td>\n",
       "      <td>70</td>\n",
       "      <td>4</td>\n",
       "      <td>1</td>\n",
       "      <td>130</td>\n",
       "      <td>10.0</td>\n",
       "      <td>5.0</td>\n",
       "      <td>6</td>\n",
       "      <td>280</td>\n",
       "      <td>25</td>\n",
       "      <td>3</td>\n",
       "      <td>1.0</td>\n",
       "      <td>0.33</td>\n",
       "    </tr>\n",
       "    <tr>\n",
       "      <th>1</th>\n",
       "      <td>100% Natural Bran</td>\n",
       "      <td>Q</td>\n",
       "      <td>C</td>\n",
       "      <td>120</td>\n",
       "      <td>3</td>\n",
       "      <td>5</td>\n",
       "      <td>15</td>\n",
       "      <td>2.0</td>\n",
       "      <td>8.0</td>\n",
       "      <td>8</td>\n",
       "      <td>135</td>\n",
       "      <td>0</td>\n",
       "      <td>3</td>\n",
       "      <td>1.0</td>\n",
       "      <td>1.00</td>\n",
       "    </tr>\n",
       "    <tr>\n",
       "      <th>2</th>\n",
       "      <td>All-Bran</td>\n",
       "      <td>K</td>\n",
       "      <td>C</td>\n",
       "      <td>70</td>\n",
       "      <td>4</td>\n",
       "      <td>1</td>\n",
       "      <td>260</td>\n",
       "      <td>9.0</td>\n",
       "      <td>7.0</td>\n",
       "      <td>5</td>\n",
       "      <td>320</td>\n",
       "      <td>25</td>\n",
       "      <td>3</td>\n",
       "      <td>1.0</td>\n",
       "      <td>0.33</td>\n",
       "    </tr>\n",
       "    <tr>\n",
       "      <th>3</th>\n",
       "      <td>All-Bran with Extra Fiber</td>\n",
       "      <td>K</td>\n",
       "      <td>C</td>\n",
       "      <td>50</td>\n",
       "      <td>4</td>\n",
       "      <td>0</td>\n",
       "      <td>140</td>\n",
       "      <td>14.0</td>\n",
       "      <td>8.0</td>\n",
       "      <td>0</td>\n",
       "      <td>330</td>\n",
       "      <td>25</td>\n",
       "      <td>3</td>\n",
       "      <td>1.0</td>\n",
       "      <td>0.50</td>\n",
       "    </tr>\n",
       "    <tr>\n",
       "      <th>4</th>\n",
       "      <td>Almond Delight</td>\n",
       "      <td>R</td>\n",
       "      <td>C</td>\n",
       "      <td>110</td>\n",
       "      <td>2</td>\n",
       "      <td>2</td>\n",
       "      <td>200</td>\n",
       "      <td>1.0</td>\n",
       "      <td>14.0</td>\n",
       "      <td>8</td>\n",
       "      <td>-1</td>\n",
       "      <td>25</td>\n",
       "      <td>3</td>\n",
       "      <td>1.0</td>\n",
       "      <td>0.75</td>\n",
       "    </tr>\n",
       "    <tr>\n",
       "      <th>...</th>\n",
       "      <td>...</td>\n",
       "      <td>...</td>\n",
       "      <td>...</td>\n",
       "      <td>...</td>\n",
       "      <td>...</td>\n",
       "      <td>...</td>\n",
       "      <td>...</td>\n",
       "      <td>...</td>\n",
       "      <td>...</td>\n",
       "      <td>...</td>\n",
       "      <td>...</td>\n",
       "      <td>...</td>\n",
       "      <td>...</td>\n",
       "      <td>...</td>\n",
       "      <td>...</td>\n",
       "    </tr>\n",
       "    <tr>\n",
       "      <th>72</th>\n",
       "      <td>Triples</td>\n",
       "      <td>G</td>\n",
       "      <td>C</td>\n",
       "      <td>110</td>\n",
       "      <td>2</td>\n",
       "      <td>1</td>\n",
       "      <td>250</td>\n",
       "      <td>0.0</td>\n",
       "      <td>21.0</td>\n",
       "      <td>3</td>\n",
       "      <td>60</td>\n",
       "      <td>25</td>\n",
       "      <td>3</td>\n",
       "      <td>1.0</td>\n",
       "      <td>0.75</td>\n",
       "    </tr>\n",
       "    <tr>\n",
       "      <th>73</th>\n",
       "      <td>Trix</td>\n",
       "      <td>G</td>\n",
       "      <td>C</td>\n",
       "      <td>110</td>\n",
       "      <td>1</td>\n",
       "      <td>1</td>\n",
       "      <td>140</td>\n",
       "      <td>0.0</td>\n",
       "      <td>13.0</td>\n",
       "      <td>12</td>\n",
       "      <td>25</td>\n",
       "      <td>25</td>\n",
       "      <td>2</td>\n",
       "      <td>1.0</td>\n",
       "      <td>1.00</td>\n",
       "    </tr>\n",
       "    <tr>\n",
       "      <th>74</th>\n",
       "      <td>Wheat Chex</td>\n",
       "      <td>R</td>\n",
       "      <td>C</td>\n",
       "      <td>100</td>\n",
       "      <td>3</td>\n",
       "      <td>1</td>\n",
       "      <td>230</td>\n",
       "      <td>3.0</td>\n",
       "      <td>17.0</td>\n",
       "      <td>3</td>\n",
       "      <td>115</td>\n",
       "      <td>25</td>\n",
       "      <td>1</td>\n",
       "      <td>1.0</td>\n",
       "      <td>0.67</td>\n",
       "    </tr>\n",
       "    <tr>\n",
       "      <th>75</th>\n",
       "      <td>Wheaties</td>\n",
       "      <td>G</td>\n",
       "      <td>C</td>\n",
       "      <td>100</td>\n",
       "      <td>3</td>\n",
       "      <td>1</td>\n",
       "      <td>200</td>\n",
       "      <td>3.0</td>\n",
       "      <td>17.0</td>\n",
       "      <td>3</td>\n",
       "      <td>110</td>\n",
       "      <td>25</td>\n",
       "      <td>1</td>\n",
       "      <td>1.0</td>\n",
       "      <td>1.00</td>\n",
       "    </tr>\n",
       "    <tr>\n",
       "      <th>76</th>\n",
       "      <td>Wheaties Honey Gold</td>\n",
       "      <td>G</td>\n",
       "      <td>C</td>\n",
       "      <td>110</td>\n",
       "      <td>2</td>\n",
       "      <td>1</td>\n",
       "      <td>200</td>\n",
       "      <td>1.0</td>\n",
       "      <td>16.0</td>\n",
       "      <td>8</td>\n",
       "      <td>60</td>\n",
       "      <td>25</td>\n",
       "      <td>1</td>\n",
       "      <td>1.0</td>\n",
       "      <td>0.75</td>\n",
       "    </tr>\n",
       "  </tbody>\n",
       "</table>\n",
       "<p>77 rows × 15 columns</p>\n",
       "</div>"
      ],
      "text/plain": [
       "                         name mfr type  calories  protein  fat  sodium  fiber  \\\n",
       "0                   100% Bran   N    C        70        4    1     130   10.0   \n",
       "1           100% Natural Bran   Q    C       120        3    5      15    2.0   \n",
       "2                    All-Bran   K    C        70        4    1     260    9.0   \n",
       "3   All-Bran with Extra Fiber   K    C        50        4    0     140   14.0   \n",
       "4              Almond Delight   R    C       110        2    2     200    1.0   \n",
       "..                        ...  ..  ...       ...      ...  ...     ...    ...   \n",
       "72                    Triples   G    C       110        2    1     250    0.0   \n",
       "73                       Trix   G    C       110        1    1     140    0.0   \n",
       "74                 Wheat Chex   R    C       100        3    1     230    3.0   \n",
       "75                   Wheaties   G    C       100        3    1     200    3.0   \n",
       "76        Wheaties Honey Gold   G    C       110        2    1     200    1.0   \n",
       "\n",
       "    carbo  sugars  potass  vitamins  shelf  weight  cups  \n",
       "0     5.0       6     280        25      3     1.0  0.33  \n",
       "1     8.0       8     135         0      3     1.0  1.00  \n",
       "2     7.0       5     320        25      3     1.0  0.33  \n",
       "3     8.0       0     330        25      3     1.0  0.50  \n",
       "4    14.0       8      -1        25      3     1.0  0.75  \n",
       "..    ...     ...     ...       ...    ...     ...   ...  \n",
       "72   21.0       3      60        25      3     1.0  0.75  \n",
       "73   13.0      12      25        25      2     1.0  1.00  \n",
       "74   17.0       3     115        25      1     1.0  0.67  \n",
       "75   17.0       3     110        25      1     1.0  1.00  \n",
       "76   16.0       8      60        25      1     1.0  0.75  \n",
       "\n",
       "[77 rows x 15 columns]"
      ]
     },
     "execution_count": 4,
     "metadata": {},
     "output_type": "execute_result"
    }
   ],
   "source": [
    "data=pd.read_csv('cereal.csv')\n",
    "data"
   ]
  },
  {
   "cell_type": "code",
   "execution_count": 5,
   "id": "pregnant-rehabilitation",
   "metadata": {},
   "outputs": [
    {
     "data": {
      "text/plain": [
       "name        0\n",
       "mfr         0\n",
       "type        0\n",
       "calories    0\n",
       "protein     0\n",
       "fat         0\n",
       "sodium      0\n",
       "fiber       0\n",
       "carbo       0\n",
       "sugars      0\n",
       "potass      0\n",
       "vitamins    0\n",
       "shelf       0\n",
       "weight      0\n",
       "cups        0\n",
       "dtype: int64"
      ]
     },
     "execution_count": 5,
     "metadata": {},
     "output_type": "execute_result"
    }
   ],
   "source": [
    "data.isnull().sum()"
   ]
  },
  {
   "cell_type": "code",
   "execution_count": 6,
   "id": "continued-croatia",
   "metadata": {},
   "outputs": [
    {
     "data": {
      "text/plain": [
       "Index(['name', 'mfr', 'type', 'calories', 'protein', 'fat', 'sodium', 'fiber',\n",
       "       'carbo', 'sugars', 'potass', 'vitamins', 'shelf', 'weight', 'cups'],\n",
       "      dtype='object')"
      ]
     },
     "execution_count": 6,
     "metadata": {},
     "output_type": "execute_result"
    }
   ],
   "source": [
    "data.columns"
   ]
  },
  {
   "cell_type": "code",
   "execution_count": 7,
   "id": "marked-bosnia",
   "metadata": {},
   "outputs": [
    {
     "data": {
      "text/plain": [
       "array(['N', 'Q', 'K', 'R', 'G', 'P', 'A'], dtype=object)"
      ]
     },
     "execution_count": 7,
     "metadata": {},
     "output_type": "execute_result"
    }
   ],
   "source": [
    "data['mfr'].unique()"
   ]
  },
  {
   "cell_type": "code",
   "execution_count": 8,
   "id": "human-recognition",
   "metadata": {},
   "outputs": [],
   "source": [
    "#Reemplazamos por números las clasificaciones de los fabricantes de cereal.\n",
    "data['mfr'].mask(data['mfr'] == 'N',1,inplace=True)\n",
    "data['mfr'].mask(data['mfr'] == 'Q',2,inplace=True)\n",
    "data['mfr'].mask(data['mfr'] == 'K',3,inplace=True)\n",
    "data['mfr'].mask(data['mfr'] == 'R',4,inplace=True)\n",
    "data['mfr'].mask(data['mfr'] == 'G',5,inplace=True)\n",
    "data['mfr'].mask(data['mfr'] == 'P',6,inplace=True)\n",
    "data['mfr'].mask(data['mfr'] == 'A',7,inplace=True)\n",
    "#Cambiamos el tipo de variable int64\n",
    "data['mfr'] =data['mfr'].astype('int64')"
   ]
  },
  {
   "cell_type": "code",
   "execution_count": 9,
   "id": "welsh-strip",
   "metadata": {},
   "outputs": [
    {
     "data": {
      "text/html": [
       "<div>\n",
       "<style scoped>\n",
       "    .dataframe tbody tr th:only-of-type {\n",
       "        vertical-align: middle;\n",
       "    }\n",
       "\n",
       "    .dataframe tbody tr th {\n",
       "        vertical-align: top;\n",
       "    }\n",
       "\n",
       "    .dataframe thead th {\n",
       "        text-align: right;\n",
       "    }\n",
       "</style>\n",
       "<table border=\"1\" class=\"dataframe\">\n",
       "  <thead>\n",
       "    <tr style=\"text-align: right;\">\n",
       "      <th></th>\n",
       "      <th>name</th>\n",
       "      <th>mfr</th>\n",
       "      <th>type</th>\n",
       "      <th>calories</th>\n",
       "      <th>protein</th>\n",
       "      <th>fat</th>\n",
       "      <th>sodium</th>\n",
       "      <th>fiber</th>\n",
       "      <th>carbo</th>\n",
       "      <th>sugars</th>\n",
       "      <th>potass</th>\n",
       "      <th>vitamins</th>\n",
       "      <th>shelf</th>\n",
       "      <th>weight</th>\n",
       "      <th>cups</th>\n",
       "    </tr>\n",
       "  </thead>\n",
       "  <tbody>\n",
       "    <tr>\n",
       "      <th>0</th>\n",
       "      <td>100% Bran</td>\n",
       "      <td>1</td>\n",
       "      <td>C</td>\n",
       "      <td>70</td>\n",
       "      <td>4</td>\n",
       "      <td>1</td>\n",
       "      <td>130</td>\n",
       "      <td>10.0</td>\n",
       "      <td>5.0</td>\n",
       "      <td>6</td>\n",
       "      <td>280</td>\n",
       "      <td>25</td>\n",
       "      <td>3</td>\n",
       "      <td>1.0</td>\n",
       "      <td>0.33</td>\n",
       "    </tr>\n",
       "    <tr>\n",
       "      <th>1</th>\n",
       "      <td>100% Natural Bran</td>\n",
       "      <td>2</td>\n",
       "      <td>C</td>\n",
       "      <td>120</td>\n",
       "      <td>3</td>\n",
       "      <td>5</td>\n",
       "      <td>15</td>\n",
       "      <td>2.0</td>\n",
       "      <td>8.0</td>\n",
       "      <td>8</td>\n",
       "      <td>135</td>\n",
       "      <td>0</td>\n",
       "      <td>3</td>\n",
       "      <td>1.0</td>\n",
       "      <td>1.00</td>\n",
       "    </tr>\n",
       "    <tr>\n",
       "      <th>2</th>\n",
       "      <td>All-Bran</td>\n",
       "      <td>3</td>\n",
       "      <td>C</td>\n",
       "      <td>70</td>\n",
       "      <td>4</td>\n",
       "      <td>1</td>\n",
       "      <td>260</td>\n",
       "      <td>9.0</td>\n",
       "      <td>7.0</td>\n",
       "      <td>5</td>\n",
       "      <td>320</td>\n",
       "      <td>25</td>\n",
       "      <td>3</td>\n",
       "      <td>1.0</td>\n",
       "      <td>0.33</td>\n",
       "    </tr>\n",
       "    <tr>\n",
       "      <th>3</th>\n",
       "      <td>All-Bran with Extra Fiber</td>\n",
       "      <td>3</td>\n",
       "      <td>C</td>\n",
       "      <td>50</td>\n",
       "      <td>4</td>\n",
       "      <td>0</td>\n",
       "      <td>140</td>\n",
       "      <td>14.0</td>\n",
       "      <td>8.0</td>\n",
       "      <td>0</td>\n",
       "      <td>330</td>\n",
       "      <td>25</td>\n",
       "      <td>3</td>\n",
       "      <td>1.0</td>\n",
       "      <td>0.50</td>\n",
       "    </tr>\n",
       "    <tr>\n",
       "      <th>4</th>\n",
       "      <td>Almond Delight</td>\n",
       "      <td>4</td>\n",
       "      <td>C</td>\n",
       "      <td>110</td>\n",
       "      <td>2</td>\n",
       "      <td>2</td>\n",
       "      <td>200</td>\n",
       "      <td>1.0</td>\n",
       "      <td>14.0</td>\n",
       "      <td>8</td>\n",
       "      <td>-1</td>\n",
       "      <td>25</td>\n",
       "      <td>3</td>\n",
       "      <td>1.0</td>\n",
       "      <td>0.75</td>\n",
       "    </tr>\n",
       "  </tbody>\n",
       "</table>\n",
       "</div>"
      ],
      "text/plain": [
       "                        name  mfr type  calories  protein  fat  sodium  fiber  \\\n",
       "0                  100% Bran    1    C        70        4    1     130   10.0   \n",
       "1          100% Natural Bran    2    C       120        3    5      15    2.0   \n",
       "2                   All-Bran    3    C        70        4    1     260    9.0   \n",
       "3  All-Bran with Extra Fiber    3    C        50        4    0     140   14.0   \n",
       "4             Almond Delight    4    C       110        2    2     200    1.0   \n",
       "\n",
       "   carbo  sugars  potass  vitamins  shelf  weight  cups  \n",
       "0    5.0       6     280        25      3     1.0  0.33  \n",
       "1    8.0       8     135         0      3     1.0  1.00  \n",
       "2    7.0       5     320        25      3     1.0  0.33  \n",
       "3    8.0       0     330        25      3     1.0  0.50  \n",
       "4   14.0       8      -1        25      3     1.0  0.75  "
      ]
     },
     "execution_count": 9,
     "metadata": {},
     "output_type": "execute_result"
    }
   ],
   "source": [
    "# Base de datos\n",
    "data.head()"
   ]
  },
  {
   "cell_type": "markdown",
   "id": "unusual-specific",
   "metadata": {},
   "source": [
    "### <font color= #653700> HCluster </font>"
   ]
  },
  {
   "cell_type": "code",
   "execution_count": 10,
   "id": "other-boulder",
   "metadata": {},
   "outputs": [
    {
     "name": "stdout",
     "output_type": "stream",
     "text": [
      "mfr\n",
      "1     6\n",
      "2     8\n",
      "3    23\n",
      "4     8\n",
      "5    22\n",
      "6     9\n",
      "7     1\n",
      "dtype: int64\n"
     ]
    }
   ],
   "source": [
    "# Los grupos por fabricantes de cereal\n",
    "res=data.describe()\n",
    "print(data.groupby('mfr').size())"
   ]
  },
  {
   "cell_type": "code",
   "execution_count": 11,
   "id": "velvet-being",
   "metadata": {},
   "outputs": [],
   "source": [
    "#Selección de variables\n",
    "X = np.array(data[[\"carbo\",\"sugars\",\"potass\"]])\n",
    "y = np.array(data['mfr'])"
   ]
  },
  {
   "cell_type": "code",
   "execution_count": 12,
   "id": "japanese-ministry",
   "metadata": {},
   "outputs": [
    {
     "data": {
      "text/plain": [
       "<mpl_toolkits.mplot3d.art3d.Path3DCollection at 0x1e5d06c8d30>"
      ]
     },
     "execution_count": 12,
     "metadata": {},
     "output_type": "execute_result"
    },
    {
     "data": {
      "image/png": "[encoded data removed]",
      "text/plain": [
       "<Figure size 576x576 with 1 Axes>"
      ]
     },
     "metadata": {},
     "output_type": "display_data"
    }
   ],
   "source": [
    "#Gráfica de las variables\n",
    "fig = plt.figure()\n",
    "ax = Axes3D(fig)\n",
    "colores=['blue','red','green','blue','cyan','yellow','orange','black','pink','brown','purple']\n",
    "asignar=[]\n",
    "for row in y:\n",
    "    asignar.append(colores[row])\n",
    "ax.scatter(X[:, 0], X[:, 1], X[:, 2], c=asignar,s=50)\n",
    "#Categorías de los famosos"
   ]
  },
  {
   "cell_type": "code",
   "execution_count": 13,
   "id": "geographic-basin",
   "metadata": {},
   "outputs": [],
   "source": [
    "# Clusterig jerarquico scipy\n",
    "# metric= a la distancia euclidiana \n",
    "HC= hierarchy.linkage(X,metric='euclidean',method='complete')"
   ]
  },
  {
   "cell_type": "code",
   "execution_count": 14,
   "id": "rental-bobby",
   "metadata": {},
   "outputs": [
    {
     "data": {
      "image/png": "[encoded data removed]",
      "text/plain": [
       "<Figure size 576x576 with 1 Axes>"
      ]
     },
     "metadata": {},
     "output_type": "display_data"
    }
   ],
   "source": [
    "#Dendograma\n",
    "plt.title('Dendrograma Completo')\n",
    "plt.xlabel('Índice de la muestra')\n",
    "plt.ylabel('Distancia')\n",
    "dn = hierarchy.dendrogram(HC)\n",
    "plt.show()"
   ]
  },
  {
   "cell_type": "markdown",
   "id": "incorporated-citation",
   "metadata": {},
   "source": [
    "#### <font color= #653700> Resultados </font>\n",
    "\n",
    "En este dendrograma podemos determinar el número de cluster que queremos utilizar para separar los datos, en este caso elegí 4"
   ]
  },
  {
   "cell_type": "code",
   "execution_count": 15,
   "id": "potential-market",
   "metadata": {},
   "outputs": [
    {
     "data": {
      "text/plain": [
       "<Figure size 1800x1080 with 0 Axes>"
      ]
     },
     "metadata": {},
     "output_type": "display_data"
    },
    {
     "data": {
      "image/png": "[encoded data removed]",
      "text/plain": [
       "<Figure size 576x576 with 1 Axes>"
      ]
     },
     "metadata": {},
     "output_type": "display_data"
    }
   ],
   "source": [
    "# Modificar el aspecto del dendrograma\n",
    "plt.figure(figsize=(25,15))\n",
    "plt.figure()\n",
    "plt.title('Dendrograma Truncado')\n",
    "plt.xlabel('índice de la muestra')\n",
    "plt.ylabel('Distancia')\n",
    "dn = hierarchy.dendrogram(HC, truncate_mode='level',p=4)\n",
    "plt.show()"
   ]
  },
  {
   "cell_type": "markdown",
   "id": "acknowledged-viking",
   "metadata": {},
   "source": [
    "#### <font color= #653700> Resultados </font>\n",
    "\n",
    "En este dendograma truncado vemos más de cerca la cantidad de cluster que elegí en el dendograma pasado"
   ]
  },
  {
   "cell_type": "code",
   "execution_count": 16,
   "id": "jewish-appeal",
   "metadata": {},
   "outputs": [],
   "source": [
    "# Sacamos el clustering jerárquico sklearn\n",
    "from sklearn.cluster import AgglomerativeClustering\n",
    "cluster = AgglomerativeClustering(n_clusters=4, affinity='euclidean', linkage='complete')  \n",
    "grupos=cluster.fit_predict(X)"
   ]
  },
  {
   "cell_type": "code",
   "execution_count": 18,
   "id": "romance-invention",
   "metadata": {},
   "outputs": [
    {
     "data": {
      "text/html": [
       "<div>\n",
       "<style scoped>\n",
       "    .dataframe tbody tr th:only-of-type {\n",
       "        vertical-align: middle;\n",
       "    }\n",
       "\n",
       "    .dataframe tbody tr th {\n",
       "        vertical-align: top;\n",
       "    }\n",
       "\n",
       "    .dataframe thead th {\n",
       "        text-align: right;\n",
       "    }\n",
       "</style>\n",
       "<table border=\"1\" class=\"dataframe\">\n",
       "  <thead>\n",
       "    <tr style=\"text-align: right;\">\n",
       "      <th></th>\n",
       "      <th>mfr</th>\n",
       "      <th>calories</th>\n",
       "      <th>protein</th>\n",
       "      <th>fat</th>\n",
       "      <th>sodium</th>\n",
       "      <th>fiber</th>\n",
       "      <th>carbo</th>\n",
       "      <th>sugars</th>\n",
       "      <th>potass</th>\n",
       "      <th>vitamins</th>\n",
       "      <th>shelf</th>\n",
       "      <th>weight</th>\n",
       "      <th>cups</th>\n",
       "    </tr>\n",
       "  </thead>\n",
       "  <tbody>\n",
       "    <tr>\n",
       "      <th>count</th>\n",
       "      <td>77.000000</td>\n",
       "      <td>77.000000</td>\n",
       "      <td>77.000000</td>\n",
       "      <td>77.000000</td>\n",
       "      <td>77.000000</td>\n",
       "      <td>77.000000</td>\n",
       "      <td>77.000000</td>\n",
       "      <td>77.000000</td>\n",
       "      <td>77.000000</td>\n",
       "      <td>77.000000</td>\n",
       "      <td>77.000000</td>\n",
       "      <td>77.000000</td>\n",
       "      <td>77.000000</td>\n",
       "    </tr>\n",
       "    <tr>\n",
       "      <th>mean</th>\n",
       "      <td>3.818182</td>\n",
       "      <td>106.883117</td>\n",
       "      <td>2.545455</td>\n",
       "      <td>1.012987</td>\n",
       "      <td>159.675325</td>\n",
       "      <td>2.151948</td>\n",
       "      <td>14.597403</td>\n",
       "      <td>6.922078</td>\n",
       "      <td>96.077922</td>\n",
       "      <td>28.246753</td>\n",
       "      <td>2.207792</td>\n",
       "      <td>1.029610</td>\n",
       "      <td>0.821039</td>\n",
       "    </tr>\n",
       "    <tr>\n",
       "      <th>std</th>\n",
       "      <td>1.510727</td>\n",
       "      <td>19.484119</td>\n",
       "      <td>1.094790</td>\n",
       "      <td>1.006473</td>\n",
       "      <td>83.832295</td>\n",
       "      <td>2.383364</td>\n",
       "      <td>4.278956</td>\n",
       "      <td>4.444885</td>\n",
       "      <td>71.286813</td>\n",
       "      <td>22.342523</td>\n",
       "      <td>0.832524</td>\n",
       "      <td>0.150477</td>\n",
       "      <td>0.232716</td>\n",
       "    </tr>\n",
       "    <tr>\n",
       "      <th>min</th>\n",
       "      <td>1.000000</td>\n",
       "      <td>50.000000</td>\n",
       "      <td>1.000000</td>\n",
       "      <td>0.000000</td>\n",
       "      <td>0.000000</td>\n",
       "      <td>0.000000</td>\n",
       "      <td>-1.000000</td>\n",
       "      <td>-1.000000</td>\n",
       "      <td>-1.000000</td>\n",
       "      <td>0.000000</td>\n",
       "      <td>1.000000</td>\n",
       "      <td>0.500000</td>\n",
       "      <td>0.250000</td>\n",
       "    </tr>\n",
       "    <tr>\n",
       "      <th>25%</th>\n",
       "      <td>3.000000</td>\n",
       "      <td>100.000000</td>\n",
       "      <td>2.000000</td>\n",
       "      <td>0.000000</td>\n",
       "      <td>130.000000</td>\n",
       "      <td>1.000000</td>\n",
       "      <td>12.000000</td>\n",
       "      <td>3.000000</td>\n",
       "      <td>40.000000</td>\n",
       "      <td>25.000000</td>\n",
       "      <td>1.000000</td>\n",
       "      <td>1.000000</td>\n",
       "      <td>0.670000</td>\n",
       "    </tr>\n",
       "    <tr>\n",
       "      <th>50%</th>\n",
       "      <td>4.000000</td>\n",
       "      <td>110.000000</td>\n",
       "      <td>3.000000</td>\n",
       "      <td>1.000000</td>\n",
       "      <td>180.000000</td>\n",
       "      <td>2.000000</td>\n",
       "      <td>14.000000</td>\n",
       "      <td>7.000000</td>\n",
       "      <td>90.000000</td>\n",
       "      <td>25.000000</td>\n",
       "      <td>2.000000</td>\n",
       "      <td>1.000000</td>\n",
       "      <td>0.750000</td>\n",
       "    </tr>\n",
       "    <tr>\n",
       "      <th>75%</th>\n",
       "      <td>5.000000</td>\n",
       "      <td>110.000000</td>\n",
       "      <td>3.000000</td>\n",
       "      <td>2.000000</td>\n",
       "      <td>210.000000</td>\n",
       "      <td>3.000000</td>\n",
       "      <td>17.000000</td>\n",
       "      <td>11.000000</td>\n",
       "      <td>120.000000</td>\n",
       "      <td>25.000000</td>\n",
       "      <td>3.000000</td>\n",
       "      <td>1.000000</td>\n",
       "      <td>1.000000</td>\n",
       "    </tr>\n",
       "    <tr>\n",
       "      <th>max</th>\n",
       "      <td>7.000000</td>\n",
       "      <td>160.000000</td>\n",
       "      <td>6.000000</td>\n",
       "      <td>5.000000</td>\n",
       "      <td>320.000000</td>\n",
       "      <td>14.000000</td>\n",
       "      <td>23.000000</td>\n",
       "      <td>15.000000</td>\n",
       "      <td>330.000000</td>\n",
       "      <td>100.000000</td>\n",
       "      <td>3.000000</td>\n",
       "      <td>1.500000</td>\n",
       "      <td>1.500000</td>\n",
       "    </tr>\n",
       "  </tbody>\n",
       "</table>\n",
       "</div>"
      ],
      "text/plain": [
       "             mfr    calories    protein        fat      sodium      fiber  \\\n",
       "count  77.000000   77.000000  77.000000  77.000000   77.000000  77.000000   \n",
       "mean    3.818182  106.883117   2.545455   1.012987  159.675325   2.151948   \n",
       "std     1.510727   19.484119   1.094790   1.006473   83.832295   2.383364   \n",
       "min     1.000000   50.000000   1.000000   0.000000    0.000000   0.000000   \n",
       "25%     3.000000  100.000000   2.000000   0.000000  130.000000   1.000000   \n",
       "50%     4.000000  110.000000   3.000000   1.000000  180.000000   2.000000   \n",
       "75%     5.000000  110.000000   3.000000   2.000000  210.000000   3.000000   \n",
       "max     7.000000  160.000000   6.000000   5.000000  320.000000  14.000000   \n",
       "\n",
       "           carbo     sugars      potass    vitamins      shelf     weight  \\\n",
       "count  77.000000  77.000000   77.000000   77.000000  77.000000  77.000000   \n",
       "mean   14.597403   6.922078   96.077922   28.246753   2.207792   1.029610   \n",
       "std     4.278956   4.444885   71.286813   22.342523   0.832524   0.150477   \n",
       "min    -1.000000  -1.000000   -1.000000    0.000000   1.000000   0.500000   \n",
       "25%    12.000000   3.000000   40.000000   25.000000   1.000000   1.000000   \n",
       "50%    14.000000   7.000000   90.000000   25.000000   2.000000   1.000000   \n",
       "75%    17.000000  11.000000  120.000000   25.000000   3.000000   1.000000   \n",
       "max    23.000000  15.000000  330.000000  100.000000   3.000000   1.500000   \n",
       "\n",
       "            cups  \n",
       "count  77.000000  \n",
       "mean    0.821039  \n",
       "std     0.232716  \n",
       "min     0.250000  \n",
       "25%     0.670000  \n",
       "50%     0.750000  \n",
       "75%     1.000000  \n",
       "max     1.500000  "
      ]
     },
     "execution_count": 18,
     "metadata": {},
     "output_type": "execute_result"
    }
   ],
   "source": [
    "# data.describe() = res esta definido en la parte de arriba \n",
    "res"
   ]
  },
  {
   "cell_type": "code",
   "execution_count": 17,
   "id": "noted-refrigerator",
   "metadata": {},
   "outputs": [
    {
     "data": {
      "text/html": [
       "<div>\n",
       "<style scoped>\n",
       "    .dataframe tbody tr th:only-of-type {\n",
       "        vertical-align: middle;\n",
       "    }\n",
       "\n",
       "    .dataframe tbody tr th {\n",
       "        vertical-align: top;\n",
       "    }\n",
       "\n",
       "    .dataframe thead th {\n",
       "        text-align: right;\n",
       "    }\n",
       "</style>\n",
       "<table border=\"1\" class=\"dataframe\">\n",
       "  <thead>\n",
       "    <tr style=\"text-align: right;\">\n",
       "      <th></th>\n",
       "      <th>0</th>\n",
       "      <th>1</th>\n",
       "      <th>2</th>\n",
       "    </tr>\n",
       "  </thead>\n",
       "  <tbody>\n",
       "    <tr>\n",
       "      <th>count</th>\n",
       "      <td>6.00</td>\n",
       "      <td>6.000000</td>\n",
       "      <td>6.000000</td>\n",
       "    </tr>\n",
       "    <tr>\n",
       "      <th>mean</th>\n",
       "      <td>10.00</td>\n",
       "      <td>8.500000</td>\n",
       "      <td>276.666667</td>\n",
       "    </tr>\n",
       "    <tr>\n",
       "      <th>std</th>\n",
       "      <td>4.00</td>\n",
       "      <td>5.718391</td>\n",
       "      <td>41.311822</td>\n",
       "    </tr>\n",
       "    <tr>\n",
       "      <th>min</th>\n",
       "      <td>5.00</td>\n",
       "      <td>0.000000</td>\n",
       "      <td>230.000000</td>\n",
       "    </tr>\n",
       "    <tr>\n",
       "      <th>25%</th>\n",
       "      <td>7.25</td>\n",
       "      <td>5.250000</td>\n",
       "      <td>245.000000</td>\n",
       "    </tr>\n",
       "    <tr>\n",
       "      <th>50%</th>\n",
       "      <td>9.50</td>\n",
       "      <td>9.000000</td>\n",
       "      <td>270.000000</td>\n",
       "    </tr>\n",
       "    <tr>\n",
       "      <th>75%</th>\n",
       "      <td>13.25</td>\n",
       "      <td>13.500000</td>\n",
       "      <td>310.000000</td>\n",
       "    </tr>\n",
       "    <tr>\n",
       "      <th>max</th>\n",
       "      <td>15.00</td>\n",
       "      <td>14.000000</td>\n",
       "      <td>330.000000</td>\n",
       "    </tr>\n",
       "  </tbody>\n",
       "</table>\n",
       "</div>"
      ],
      "text/plain": [
       "           0          1           2\n",
       "count   6.00   6.000000    6.000000\n",
       "mean   10.00   8.500000  276.666667\n",
       "std     4.00   5.718391   41.311822\n",
       "min     5.00   0.000000  230.000000\n",
       "25%     7.25   5.250000  245.000000\n",
       "50%     9.50   9.000000  270.000000\n",
       "75%    13.25  13.500000  310.000000\n",
       "max    15.00  14.000000  330.000000"
      ]
     },
     "execution_count": 17,
     "metadata": {},
     "output_type": "execute_result"
    }
   ],
   "source": [
    "#Extraer los elementos de cada clúster\n",
    "#Cluster 1\n",
    "idx_0 = grupos==0\n",
    "subdata_0 = pd.DataFrame(X[idx_0])\n",
    "res_0=subdata_0.describe()\n",
    "res_0"
   ]
  },
  {
   "cell_type": "code",
   "execution_count": 19,
   "id": "logical-pound",
   "metadata": {},
   "outputs": [
    {
     "data": {
      "text/plain": [
       "3    3\n",
       "1    1\n",
       "6    1\n",
       "5    1\n",
       "Name: mfr, dtype: int64"
      ]
     },
     "execution_count": 19,
     "metadata": {},
     "output_type": "execute_result"
    }
   ],
   "source": [
    "pd.value_counts(data['mfr'][idx_0])"
   ]
  },
  {
   "cell_type": "markdown",
   "id": "typical-female",
   "metadata": {},
   "source": [
    "#### <font color= #653700> Resultados </font>\n",
    "\n",
    "Esto nos dice que de los tipos de fabricantes de cereal cuales estan en este grupo:\n",
    "\n",
    "De Kelloggs son 3, Nabisco son 1,Publicación son 6 y Molinos Generales 1"
   ]
  },
  {
   "cell_type": "code",
   "execution_count": 20,
   "id": "governmental-powder",
   "metadata": {},
   "outputs": [
    {
     "data": {
      "text/plain": [
       "100% Bran                    1\n",
       "All-Bran                     1\n",
       "All-Bran with Extra Fiber    1\n",
       "Post Nat. Raisin Bran        1\n",
       "Raisin Bran                  1\n",
       "Total Raisin Bran            1\n",
       "Name: name, dtype: int64"
      ]
     },
     "execution_count": 20,
     "metadata": {},
     "output_type": "execute_result"
    }
   ],
   "source": [
    "# Son los nombres de los cereales de ese grupo \n",
    "pd.value_counts(data['name'][idx_0])"
   ]
  },
  {
   "cell_type": "code",
   "execution_count": 21,
   "id": "statewide-panama",
   "metadata": {},
   "outputs": [
    {
     "data": {
      "text/html": [
       "<div>\n",
       "<style scoped>\n",
       "    .dataframe tbody tr th:only-of-type {\n",
       "        vertical-align: middle;\n",
       "    }\n",
       "\n",
       "    .dataframe tbody tr th {\n",
       "        vertical-align: top;\n",
       "    }\n",
       "\n",
       "    .dataframe thead th {\n",
       "        text-align: right;\n",
       "    }\n",
       "</style>\n",
       "<table border=\"1\" class=\"dataframe\">\n",
       "  <thead>\n",
       "    <tr style=\"text-align: right;\">\n",
       "      <th></th>\n",
       "      <th>0</th>\n",
       "      <th>1</th>\n",
       "      <th>2</th>\n",
       "    </tr>\n",
       "  </thead>\n",
       "  <tbody>\n",
       "    <tr>\n",
       "      <th>count</th>\n",
       "      <td>39.000000</td>\n",
       "      <td>39.000000</td>\n",
       "      <td>39.000000</td>\n",
       "    </tr>\n",
       "    <tr>\n",
       "      <th>mean</th>\n",
       "      <td>14.641026</td>\n",
       "      <td>5.589744</td>\n",
       "      <td>95.641026</td>\n",
       "    </tr>\n",
       "    <tr>\n",
       "      <th>std</th>\n",
       "      <td>4.078101</td>\n",
       "      <td>3.711419</td>\n",
       "      <td>25.083531</td>\n",
       "    </tr>\n",
       "    <tr>\n",
       "      <th>min</th>\n",
       "      <td>-1.000000</td>\n",
       "      <td>-1.000000</td>\n",
       "      <td>50.000000</td>\n",
       "    </tr>\n",
       "    <tr>\n",
       "      <th>25%</th>\n",
       "      <td>12.000000</td>\n",
       "      <td>3.000000</td>\n",
       "      <td>82.500000</td>\n",
       "    </tr>\n",
       "    <tr>\n",
       "      <th>50%</th>\n",
       "      <td>15.000000</td>\n",
       "      <td>6.000000</td>\n",
       "      <td>95.000000</td>\n",
       "    </tr>\n",
       "    <tr>\n",
       "      <th>75%</th>\n",
       "      <td>17.000000</td>\n",
       "      <td>8.000000</td>\n",
       "      <td>110.000000</td>\n",
       "    </tr>\n",
       "    <tr>\n",
       "      <th>max</th>\n",
       "      <td>21.000000</td>\n",
       "      <td>13.000000</td>\n",
       "      <td>140.000000</td>\n",
       "    </tr>\n",
       "  </tbody>\n",
       "</table>\n",
       "</div>"
      ],
      "text/plain": [
       "               0          1           2\n",
       "count  39.000000  39.000000   39.000000\n",
       "mean   14.641026   5.589744   95.641026\n",
       "std     4.078101   3.711419   25.083531\n",
       "min    -1.000000  -1.000000   50.000000\n",
       "25%    12.000000   3.000000   82.500000\n",
       "50%    15.000000   6.000000   95.000000\n",
       "75%    17.000000   8.000000  110.000000\n",
       "max    21.000000  13.000000  140.000000"
      ]
     },
     "execution_count": 21,
     "metadata": {},
     "output_type": "execute_result"
    }
   ],
   "source": [
    "#Cluster 2\n",
    "idx_1 = grupos==1\n",
    "subdata_1 =pd.DataFrame(X[idx_1])\n",
    "res_1=subdata_1.describe()\n",
    "res_1"
   ]
  },
  {
   "cell_type": "code",
   "execution_count": 22,
   "id": "educational-screening",
   "metadata": {},
   "outputs": [
    {
     "data": {
      "text/plain": [
       "5    16\n",
       "3     7\n",
       "2     5\n",
       "1     4\n",
       "4     3\n",
       "6     3\n",
       "7     1\n",
       "Name: mfr, dtype: int64"
      ]
     },
     "execution_count": 22,
     "metadata": {},
     "output_type": "execute_result"
    }
   ],
   "source": [
    "pd.value_counts(data['mfr'][idx_1])"
   ]
  },
  {
   "cell_type": "markdown",
   "id": "rural-objective",
   "metadata": {},
   "source": [
    "#### <font color= #653700> Resultados </font>\n",
    "\n",
    "Esto nos dice que de los tipos de fabricantes de cereal cuales estan en este grupo:\n",
    "\n",
    "De Molinos Generales son 16, Kellogs son 7, Avena Quaker son 5, Nabisco es 4,Ralston Purina son 3, Publicación son 3 y Productos Alimenticios Caseros Estadounidenses es 1"
   ]
  },
  {
   "cell_type": "code",
   "execution_count": 23,
   "id": "fancy-navigator",
   "metadata": {},
   "outputs": [
    {
     "data": {
      "text/plain": [
       "100% Natural Bran              1\n",
       "Shredded Wheat                 1\n",
       "Nutri-grain Wheat              1\n",
       "Oatmeal Raisin Crisp           1\n",
       "Puffed Wheat                   1\n",
       "Quaker Oat Squares             1\n",
       "Quaker Oatmeal                 1\n",
       "Raisin Nut Bran                1\n",
       "Raisin Squares                 1\n",
       "Shredded Wheat 'n'Bran         1\n",
       "Multi-Grain Cheerios           1\n",
       "Shredded Wheat spoon size      1\n",
       "Special K                      1\n",
       "Strawberry Fruit Wheats        1\n",
       "Total Whole Grain              1\n",
       "Triples                        1\n",
       "Wheat Chex                     1\n",
       "Wheaties                       1\n",
       "Nutri-Grain Almond-Raisin      1\n",
       "Maypo                          1\n",
       "Apple Cinnamon Cheerios        1\n",
       "Double Chex                    1\n",
       "Basic 4                        1\n",
       "Bran Chex                      1\n",
       "Cheerios                       1\n",
       "Clusters                       1\n",
       "Cocoa Puffs                    1\n",
       "Count Chocula                  1\n",
       "Crispy Wheat & Raisins         1\n",
       "Frosted Mini-Wheats            1\n",
       "Lucky Charms                   1\n",
       "Grape Nuts Flakes              1\n",
       "Grape-Nuts                     1\n",
       "Great Grains Pecan             1\n",
       "Honey Nut Cheerios             1\n",
       "Just Right Crunchy  Nuggets    1\n",
       "Just Right Fruit & Nut         1\n",
       "Life                           1\n",
       "Wheaties Honey Gold            1\n",
       "Name: name, dtype: int64"
      ]
     },
     "execution_count": 23,
     "metadata": {},
     "output_type": "execute_result"
    }
   ],
   "source": [
    "# Son los nombres de los cereales de ese grupo \n",
    "pd.value_counts(data['name'][idx_1])"
   ]
  },
  {
   "cell_type": "code",
   "execution_count": 22,
   "id": "celtic-airfare",
   "metadata": {},
   "outputs": [
    {
     "data": {
      "text/html": [
       "<div>\n",
       "<style scoped>\n",
       "    .dataframe tbody tr th:only-of-type {\n",
       "        vertical-align: middle;\n",
       "    }\n",
       "\n",
       "    .dataframe tbody tr th {\n",
       "        vertical-align: top;\n",
       "    }\n",
       "\n",
       "    .dataframe thead th {\n",
       "        text-align: right;\n",
       "    }\n",
       "</style>\n",
       "<table border=\"1\" class=\"dataframe\">\n",
       "  <thead>\n",
       "    <tr style=\"text-align: right;\">\n",
       "      <th></th>\n",
       "      <th>0</th>\n",
       "      <th>1</th>\n",
       "      <th>2</th>\n",
       "    </tr>\n",
       "  </thead>\n",
       "  <tbody>\n",
       "    <tr>\n",
       "      <th>count</th>\n",
       "      <td>7.000000</td>\n",
       "      <td>7.000000</td>\n",
       "      <td>7.000000</td>\n",
       "    </tr>\n",
       "    <tr>\n",
       "      <th>mean</th>\n",
       "      <td>14.000000</td>\n",
       "      <td>9.857143</td>\n",
       "      <td>177.142857</td>\n",
       "    </tr>\n",
       "    <tr>\n",
       "      <th>std</th>\n",
       "      <td>2.516611</td>\n",
       "      <td>2.853569</td>\n",
       "      <td>16.035675</td>\n",
       "    </tr>\n",
       "    <tr>\n",
       "      <th>min</th>\n",
       "      <td>10.000000</td>\n",
       "      <td>5.000000</td>\n",
       "      <td>160.000000</td>\n",
       "    </tr>\n",
       "    <tr>\n",
       "      <th>25%</th>\n",
       "      <td>12.500000</td>\n",
       "      <td>8.500000</td>\n",
       "      <td>165.000000</td>\n",
       "    </tr>\n",
       "    <tr>\n",
       "      <th>50%</th>\n",
       "      <td>14.000000</td>\n",
       "      <td>11.000000</td>\n",
       "      <td>170.000000</td>\n",
       "    </tr>\n",
       "    <tr>\n",
       "      <th>75%</th>\n",
       "      <td>16.000000</td>\n",
       "      <td>11.500000</td>\n",
       "      <td>190.000000</td>\n",
       "    </tr>\n",
       "    <tr>\n",
       "      <th>max</th>\n",
       "      <td>17.000000</td>\n",
       "      <td>13.000000</td>\n",
       "      <td>200.000000</td>\n",
       "    </tr>\n",
       "  </tbody>\n",
       "</table>\n",
       "</div>"
      ],
      "text/plain": [
       "               0          1           2\n",
       "count   7.000000   7.000000    7.000000\n",
       "mean   14.000000   9.857143  177.142857\n",
       "std     2.516611   2.853569   16.035675\n",
       "min    10.000000   5.000000  160.000000\n",
       "25%    12.500000   8.500000  165.000000\n",
       "50%    14.000000  11.000000  170.000000\n",
       "75%    16.000000  11.500000  190.000000\n",
       "max    17.000000  13.000000  200.000000"
      ]
     },
     "execution_count": 22,
     "metadata": {},
     "output_type": "execute_result"
    }
   ],
   "source": [
    "#Cluster 3\n",
    "idx_2 = grupos==2\n",
    "subdata_2 = pd.DataFrame(X[idx_2])\n",
    "res_2=subdata_2.describe()\n",
    "res_2"
   ]
  },
  {
   "cell_type": "code",
   "execution_count": 23,
   "id": "dominant-scenario",
   "metadata": {},
   "outputs": [
    {
     "data": {
      "text/plain": [
       "3    3\n",
       "6    2\n",
       "4    2\n",
       "Name: mfr, dtype: int64"
      ]
     },
     "execution_count": 23,
     "metadata": {},
     "output_type": "execute_result"
    }
   ],
   "source": [
    "pd.value_counts(data['mfr'][idx_2])"
   ]
  },
  {
   "cell_type": "markdown",
   "id": "silent-departure",
   "metadata": {},
   "source": [
    "#### <font color= #653700> Resultados </font>\n",
    "\n",
    "Esto nos dice que de los tipos de fabricantes de cereal cuales estan en este grupo:\n",
    "\n",
    "Kelloggs son 3, Publicación son 2 y Ralston Purina son 2"
   ]
  },
  {
   "cell_type": "code",
   "execution_count": 24,
   "id": "iraqi-metro",
   "metadata": {},
   "outputs": [
    {
     "data": {
      "text/plain": [
       "Bran Flakes                               1\n",
       "Cracklin' Oat Bran                        1\n",
       "Fruit & Fibre Dates; Walnuts; and Oats    1\n",
       "Fruitful Bran                             1\n",
       "Muesli Raisins; Dates; & Almonds          1\n",
       "Muesli Raisins; Peaches; & Pecans         1\n",
       "Mueslix Crispy Blend                      1\n",
       "Name: name, dtype: int64"
      ]
     },
     "execution_count": 24,
     "metadata": {},
     "output_type": "execute_result"
    }
   ],
   "source": [
    "# Son los nombres de los cereales de ese grupo \n",
    "pd.value_counts(data['name'][idx_2])"
   ]
  },
  {
   "cell_type": "code",
   "execution_count": 25,
   "id": "looking-virgin",
   "metadata": {},
   "outputs": [
    {
     "data": {
      "text/html": [
       "<div>\n",
       "<style scoped>\n",
       "    .dataframe tbody tr th:only-of-type {\n",
       "        vertical-align: middle;\n",
       "    }\n",
       "\n",
       "    .dataframe tbody tr th {\n",
       "        vertical-align: top;\n",
       "    }\n",
       "\n",
       "    .dataframe thead th {\n",
       "        text-align: right;\n",
       "    }\n",
       "</style>\n",
       "<table border=\"1\" class=\"dataframe\">\n",
       "  <thead>\n",
       "    <tr style=\"text-align: right;\">\n",
       "      <th></th>\n",
       "      <th>0</th>\n",
       "      <th>1</th>\n",
       "      <th>2</th>\n",
       "    </tr>\n",
       "  </thead>\n",
       "  <tbody>\n",
       "    <tr>\n",
       "      <th>count</th>\n",
       "      <td>25.000000</td>\n",
       "      <td>25.000000</td>\n",
       "      <td>25.000000</td>\n",
       "    </tr>\n",
       "    <tr>\n",
       "      <th>mean</th>\n",
       "      <td>15.800000</td>\n",
       "      <td>7.800000</td>\n",
       "      <td>30.720000</td>\n",
       "    </tr>\n",
       "    <tr>\n",
       "      <th>std</th>\n",
       "      <td>4.453463</td>\n",
       "      <td>5.008326</td>\n",
       "      <td>12.515058</td>\n",
       "    </tr>\n",
       "    <tr>\n",
       "      <th>min</th>\n",
       "      <td>9.000000</td>\n",
       "      <td>0.000000</td>\n",
       "      <td>-1.000000</td>\n",
       "    </tr>\n",
       "    <tr>\n",
       "      <th>25%</th>\n",
       "      <td>13.000000</td>\n",
       "      <td>3.000000</td>\n",
       "      <td>25.000000</td>\n",
       "    </tr>\n",
       "    <tr>\n",
       "      <th>50%</th>\n",
       "      <td>14.000000</td>\n",
       "      <td>9.000000</td>\n",
       "      <td>35.000000</td>\n",
       "    </tr>\n",
       "    <tr>\n",
       "      <th>75%</th>\n",
       "      <td>21.000000</td>\n",
       "      <td>12.000000</td>\n",
       "      <td>40.000000</td>\n",
       "    </tr>\n",
       "    <tr>\n",
       "      <th>max</th>\n",
       "      <td>23.000000</td>\n",
       "      <td>15.000000</td>\n",
       "      <td>45.000000</td>\n",
       "    </tr>\n",
       "  </tbody>\n",
       "</table>\n",
       "</div>"
      ],
      "text/plain": [
       "               0          1          2\n",
       "count  25.000000  25.000000  25.000000\n",
       "mean   15.800000   7.800000  30.720000\n",
       "std     4.453463   5.008326  12.515058\n",
       "min     9.000000   0.000000  -1.000000\n",
       "25%    13.000000   3.000000  25.000000\n",
       "50%    14.000000   9.000000  35.000000\n",
       "75%    21.000000  12.000000  40.000000\n",
       "max    23.000000  15.000000  45.000000"
      ]
     },
     "execution_count": 25,
     "metadata": {},
     "output_type": "execute_result"
    }
   ],
   "source": [
    "#Cluster 4\n",
    "idx_3 = grupos==3\n",
    "subdata_3 = pd.DataFrame(X[idx_3])\n",
    "res_3 =subdata_3.describe()\n",
    "res_3"
   ]
  },
  {
   "cell_type": "code",
   "execution_count": 26,
   "id": "applied-intersection",
   "metadata": {},
   "outputs": [
    {
     "data": {
      "text/plain": [
       "3    10\n",
       "5     5\n",
       "4     3\n",
       "2     3\n",
       "6     3\n",
       "1     1\n",
       "Name: mfr, dtype: int64"
      ]
     },
     "execution_count": 26,
     "metadata": {},
     "output_type": "execute_result"
    }
   ],
   "source": [
    "pd.value_counts(data['mfr'][idx_3])"
   ]
  },
  {
   "cell_type": "markdown",
   "id": "destroyed-retirement",
   "metadata": {},
   "source": [
    "#### <font color= #653700> Resultados </font>\n",
    "\n",
    "Esto nos dice que de los tipos de fabricantes de cereal cuales estan en este grupo:\n",
    "\n",
    "Kelloggs son 10, Molinos Generales son 5, Ralston Purina son 3, Avena Quaker son 3, Publicación 3 y Nabisco  solo 1"
   ]
  },
  {
   "cell_type": "code",
   "execution_count": 27,
   "id": "attended-annotation",
   "metadata": {},
   "outputs": [
    {
     "data": {
      "text/plain": [
       "Almond Delight            1\n",
       "Golden Grahams            1\n",
       "Total Corn Flakes         1\n",
       "Smacks                    1\n",
       "Rice Krispies             1\n",
       "Rice Chex                 1\n",
       "Puffed Rice               1\n",
       "Product 19                1\n",
       "Nut&Honey Crunch          1\n",
       "Kix                       1\n",
       "Honey-comb                1\n",
       "Honey Graham Ohs          1\n",
       "Golden Crisp              1\n",
       "Apple Jacks               1\n",
       "Fruity Pebbles            1\n",
       "Frosted Flakes            1\n",
       "Froot Loops               1\n",
       "Crispix                   1\n",
       "Cream of Wheat (Quick)    1\n",
       "Corn Pops                 1\n",
       "Corn Flakes               1\n",
       "Corn Chex                 1\n",
       "Cinnamon Toast Crunch     1\n",
       "Cap'n'Crunch              1\n",
       "Trix                      1\n",
       "Name: name, dtype: int64"
      ]
     },
     "execution_count": 27,
     "metadata": {},
     "output_type": "execute_result"
    }
   ],
   "source": [
    "# Son los nombres de los cereales de ese grupo \n",
    "pd.value_counts(data['name'][idx_3])"
   ]
  },
  {
   "cell_type": "markdown",
   "id": "behind-screen",
   "metadata": {},
   "source": [
    "### <font color= #653700> Kmeans </font>"
   ]
  },
  {
   "cell_type": "code",
   "execution_count": 28,
   "id": "material-hardware",
   "metadata": {},
   "outputs": [
    {
     "data": {
      "text/html": [
       "<div>\n",
       "<style scoped>\n",
       "    .dataframe tbody tr th:only-of-type {\n",
       "        vertical-align: middle;\n",
       "    }\n",
       "\n",
       "    .dataframe tbody tr th {\n",
       "        vertical-align: top;\n",
       "    }\n",
       "\n",
       "    .dataframe thead th {\n",
       "        text-align: right;\n",
       "    }\n",
       "</style>\n",
       "<table border=\"1\" class=\"dataframe\">\n",
       "  <thead>\n",
       "    <tr style=\"text-align: right;\">\n",
       "      <th></th>\n",
       "      <th>mfr</th>\n",
       "      <th>calories</th>\n",
       "      <th>protein</th>\n",
       "      <th>fat</th>\n",
       "      <th>sodium</th>\n",
       "      <th>fiber</th>\n",
       "      <th>carbo</th>\n",
       "      <th>sugars</th>\n",
       "      <th>potass</th>\n",
       "      <th>vitamins</th>\n",
       "      <th>shelf</th>\n",
       "      <th>weight</th>\n",
       "      <th>cups</th>\n",
       "    </tr>\n",
       "  </thead>\n",
       "  <tbody>\n",
       "    <tr>\n",
       "      <th>count</th>\n",
       "      <td>77.000000</td>\n",
       "      <td>77.000000</td>\n",
       "      <td>77.000000</td>\n",
       "      <td>77.000000</td>\n",
       "      <td>77.000000</td>\n",
       "      <td>77.000000</td>\n",
       "      <td>77.000000</td>\n",
       "      <td>77.000000</td>\n",
       "      <td>77.000000</td>\n",
       "      <td>77.000000</td>\n",
       "      <td>77.000000</td>\n",
       "      <td>77.000000</td>\n",
       "      <td>77.000000</td>\n",
       "    </tr>\n",
       "    <tr>\n",
       "      <th>mean</th>\n",
       "      <td>3.818182</td>\n",
       "      <td>106.883117</td>\n",
       "      <td>2.545455</td>\n",
       "      <td>1.012987</td>\n",
       "      <td>159.675325</td>\n",
       "      <td>2.151948</td>\n",
       "      <td>14.597403</td>\n",
       "      <td>6.922078</td>\n",
       "      <td>96.077922</td>\n",
       "      <td>28.246753</td>\n",
       "      <td>2.207792</td>\n",
       "      <td>1.029610</td>\n",
       "      <td>0.821039</td>\n",
       "    </tr>\n",
       "    <tr>\n",
       "      <th>std</th>\n",
       "      <td>1.510727</td>\n",
       "      <td>19.484119</td>\n",
       "      <td>1.094790</td>\n",
       "      <td>1.006473</td>\n",
       "      <td>83.832295</td>\n",
       "      <td>2.383364</td>\n",
       "      <td>4.278956</td>\n",
       "      <td>4.444885</td>\n",
       "      <td>71.286813</td>\n",
       "      <td>22.342523</td>\n",
       "      <td>0.832524</td>\n",
       "      <td>0.150477</td>\n",
       "      <td>0.232716</td>\n",
       "    </tr>\n",
       "    <tr>\n",
       "      <th>min</th>\n",
       "      <td>1.000000</td>\n",
       "      <td>50.000000</td>\n",
       "      <td>1.000000</td>\n",
       "      <td>0.000000</td>\n",
       "      <td>0.000000</td>\n",
       "      <td>0.000000</td>\n",
       "      <td>-1.000000</td>\n",
       "      <td>-1.000000</td>\n",
       "      <td>-1.000000</td>\n",
       "      <td>0.000000</td>\n",
       "      <td>1.000000</td>\n",
       "      <td>0.500000</td>\n",
       "      <td>0.250000</td>\n",
       "    </tr>\n",
       "    <tr>\n",
       "      <th>25%</th>\n",
       "      <td>3.000000</td>\n",
       "      <td>100.000000</td>\n",
       "      <td>2.000000</td>\n",
       "      <td>0.000000</td>\n",
       "      <td>130.000000</td>\n",
       "      <td>1.000000</td>\n",
       "      <td>12.000000</td>\n",
       "      <td>3.000000</td>\n",
       "      <td>40.000000</td>\n",
       "      <td>25.000000</td>\n",
       "      <td>1.000000</td>\n",
       "      <td>1.000000</td>\n",
       "      <td>0.670000</td>\n",
       "    </tr>\n",
       "    <tr>\n",
       "      <th>50%</th>\n",
       "      <td>4.000000</td>\n",
       "      <td>110.000000</td>\n",
       "      <td>3.000000</td>\n",
       "      <td>1.000000</td>\n",
       "      <td>180.000000</td>\n",
       "      <td>2.000000</td>\n",
       "      <td>14.000000</td>\n",
       "      <td>7.000000</td>\n",
       "      <td>90.000000</td>\n",
       "      <td>25.000000</td>\n",
       "      <td>2.000000</td>\n",
       "      <td>1.000000</td>\n",
       "      <td>0.750000</td>\n",
       "    </tr>\n",
       "    <tr>\n",
       "      <th>75%</th>\n",
       "      <td>5.000000</td>\n",
       "      <td>110.000000</td>\n",
       "      <td>3.000000</td>\n",
       "      <td>2.000000</td>\n",
       "      <td>210.000000</td>\n",
       "      <td>3.000000</td>\n",
       "      <td>17.000000</td>\n",
       "      <td>11.000000</td>\n",
       "      <td>120.000000</td>\n",
       "      <td>25.000000</td>\n",
       "      <td>3.000000</td>\n",
       "      <td>1.000000</td>\n",
       "      <td>1.000000</td>\n",
       "    </tr>\n",
       "    <tr>\n",
       "      <th>max</th>\n",
       "      <td>7.000000</td>\n",
       "      <td>160.000000</td>\n",
       "      <td>6.000000</td>\n",
       "      <td>5.000000</td>\n",
       "      <td>320.000000</td>\n",
       "      <td>14.000000</td>\n",
       "      <td>23.000000</td>\n",
       "      <td>15.000000</td>\n",
       "      <td>330.000000</td>\n",
       "      <td>100.000000</td>\n",
       "      <td>3.000000</td>\n",
       "      <td>1.500000</td>\n",
       "      <td>1.500000</td>\n",
       "    </tr>\n",
       "  </tbody>\n",
       "</table>\n",
       "</div>"
      ],
      "text/plain": [
       "             mfr    calories    protein        fat      sodium      fiber  \\\n",
       "count  77.000000   77.000000  77.000000  77.000000   77.000000  77.000000   \n",
       "mean    3.818182  106.883117   2.545455   1.012987  159.675325   2.151948   \n",
       "std     1.510727   19.484119   1.094790   1.006473   83.832295   2.383364   \n",
       "min     1.000000   50.000000   1.000000   0.000000    0.000000   0.000000   \n",
       "25%     3.000000  100.000000   2.000000   0.000000  130.000000   1.000000   \n",
       "50%     4.000000  110.000000   3.000000   1.000000  180.000000   2.000000   \n",
       "75%     5.000000  110.000000   3.000000   2.000000  210.000000   3.000000   \n",
       "max     7.000000  160.000000   6.000000   5.000000  320.000000  14.000000   \n",
       "\n",
       "           carbo     sugars      potass    vitamins      shelf     weight  \\\n",
       "count  77.000000  77.000000   77.000000   77.000000  77.000000  77.000000   \n",
       "mean   14.597403   6.922078   96.077922   28.246753   2.207792   1.029610   \n",
       "std     4.278956   4.444885   71.286813   22.342523   0.832524   0.150477   \n",
       "min    -1.000000  -1.000000   -1.000000    0.000000   1.000000   0.500000   \n",
       "25%    12.000000   3.000000   40.000000   25.000000   1.000000   1.000000   \n",
       "50%    14.000000   7.000000   90.000000   25.000000   2.000000   1.000000   \n",
       "75%    17.000000  11.000000  120.000000   25.000000   3.000000   1.000000   \n",
       "max    23.000000  15.000000  330.000000  100.000000   3.000000   1.500000   \n",
       "\n",
       "            cups  \n",
       "count  77.000000  \n",
       "mean    0.821039  \n",
       "std     0.232716  \n",
       "min     0.250000  \n",
       "25%     0.670000  \n",
       "50%     0.750000  \n",
       "75%     1.000000  \n",
       "max     1.500000  "
      ]
     },
     "execution_count": 28,
     "metadata": {},
     "output_type": "execute_result"
    }
   ],
   "source": [
    "# Cargamos la base de datos\n",
    "res1 =data.describe()\n",
    "res1"
   ]
  },
  {
   "cell_type": "code",
   "execution_count": 29,
   "id": "figured-fireplace",
   "metadata": {},
   "outputs": [
    {
     "data": {
      "text/html": [
       "<div>\n",
       "<style scoped>\n",
       "    .dataframe tbody tr th:only-of-type {\n",
       "        vertical-align: middle;\n",
       "    }\n",
       "\n",
       "    .dataframe tbody tr th {\n",
       "        vertical-align: top;\n",
       "    }\n",
       "\n",
       "    .dataframe thead th {\n",
       "        text-align: right;\n",
       "    }\n",
       "</style>\n",
       "<table border=\"1\" class=\"dataframe\">\n",
       "  <thead>\n",
       "    <tr style=\"text-align: right;\">\n",
       "      <th></th>\n",
       "      <th>carbo</th>\n",
       "      <th>sugars</th>\n",
       "      <th>potass</th>\n",
       "    </tr>\n",
       "  </thead>\n",
       "  <tbody>\n",
       "    <tr>\n",
       "      <th>0</th>\n",
       "      <td>5.0</td>\n",
       "      <td>6</td>\n",
       "      <td>280</td>\n",
       "    </tr>\n",
       "    <tr>\n",
       "      <th>1</th>\n",
       "      <td>8.0</td>\n",
       "      <td>8</td>\n",
       "      <td>135</td>\n",
       "    </tr>\n",
       "    <tr>\n",
       "      <th>2</th>\n",
       "      <td>7.0</td>\n",
       "      <td>5</td>\n",
       "      <td>320</td>\n",
       "    </tr>\n",
       "    <tr>\n",
       "      <th>3</th>\n",
       "      <td>8.0</td>\n",
       "      <td>0</td>\n",
       "      <td>330</td>\n",
       "    </tr>\n",
       "    <tr>\n",
       "      <th>4</th>\n",
       "      <td>14.0</td>\n",
       "      <td>8</td>\n",
       "      <td>-1</td>\n",
       "    </tr>\n",
       "    <tr>\n",
       "      <th>...</th>\n",
       "      <td>...</td>\n",
       "      <td>...</td>\n",
       "      <td>...</td>\n",
       "    </tr>\n",
       "    <tr>\n",
       "      <th>72</th>\n",
       "      <td>21.0</td>\n",
       "      <td>3</td>\n",
       "      <td>60</td>\n",
       "    </tr>\n",
       "    <tr>\n",
       "      <th>73</th>\n",
       "      <td>13.0</td>\n",
       "      <td>12</td>\n",
       "      <td>25</td>\n",
       "    </tr>\n",
       "    <tr>\n",
       "      <th>74</th>\n",
       "      <td>17.0</td>\n",
       "      <td>3</td>\n",
       "      <td>115</td>\n",
       "    </tr>\n",
       "    <tr>\n",
       "      <th>75</th>\n",
       "      <td>17.0</td>\n",
       "      <td>3</td>\n",
       "      <td>110</td>\n",
       "    </tr>\n",
       "    <tr>\n",
       "      <th>76</th>\n",
       "      <td>16.0</td>\n",
       "      <td>8</td>\n",
       "      <td>60</td>\n",
       "    </tr>\n",
       "  </tbody>\n",
       "</table>\n",
       "<p>77 rows × 3 columns</p>\n",
       "</div>"
      ],
      "text/plain": [
       "    carbo  sugars  potass\n",
       "0     5.0       6     280\n",
       "1     8.0       8     135\n",
       "2     7.0       5     320\n",
       "3     8.0       0     330\n",
       "4    14.0       8      -1\n",
       "..    ...     ...     ...\n",
       "72   21.0       3      60\n",
       "73   13.0      12      25\n",
       "74   17.0       3     115\n",
       "75   17.0       3     110\n",
       "76   16.0       8      60\n",
       "\n",
       "[77 rows x 3 columns]"
      ]
     },
     "execution_count": 29,
     "metadata": {},
     "output_type": "execute_result"
    }
   ],
   "source": [
    "#Selección de variables\n",
    "X=data.iloc[:,8:11]\n",
    "X"
   ]
  },
  {
   "cell_type": "code",
   "execution_count": 30,
   "id": "regulation-german",
   "metadata": {},
   "outputs": [],
   "source": [
    "#%% Escalar los datos\n",
    "scaler=MinMaxScaler()\n",
    "scaler.fit(X)\n",
    "scaled_data=scaler.transform(X)"
   ]
  },
  {
   "cell_type": "code",
   "execution_count": 31,
   "id": "equipped-loading",
   "metadata": {},
   "outputs": [
    {
     "data": {
      "image/png": "[encoded data removed]",
      "text/plain": [
       "<Figure size 576x576 with 1 Axes>"
      ]
     },
     "metadata": {},
     "output_type": "display_data"
    }
   ],
   "source": [
    "# Obtener el número ideal de clústers\n",
    "# Método de codo\n",
    "inercias = np.zeros(15)\n",
    "for k in np.arange(1,15):\n",
    "    model = KMeans(n_clusters=k,init='random')\n",
    "    model = model.fit(scaled_data)\n",
    "    inercias[k] = model.inertia_\n",
    "    \n",
    "plt.plot(np.arange(1,15),inercias[1:])\n",
    "plt.xlabel('Num grupos')\n",
    "plt.ylabel('Inercia global')\n",
    "plt.show()"
   ]
  },
  {
   "cell_type": "markdown",
   "id": "conditional-revision",
   "metadata": {},
   "source": [
    "#### <font color= #653700> Resultados: </font>\n",
    "El cluster óptimo según el diagrama de codo es de 4"
   ]
  },
  {
   "cell_type": "code",
   "execution_count": 32,
   "id": "nuclear-clarity",
   "metadata": {},
   "outputs": [
    {
     "name": "stdout",
     "output_type": "stream",
     "text": [
      "[[0.79017857 0.22098214 0.21223565]\n",
      " [0.55833333 0.784375   0.12598187]\n",
      " [0.23958333 0.21875    0.78851964]\n",
      " [0.63166667 0.615      0.43867069]]\n"
     ]
    },
    {
     "data": {
      "text/plain": [
       "[<matplotlib.lines.Line2D at 0x2b3badf4e20>,\n",
       " <matplotlib.lines.Line2D at 0x2b3badf4ee0>,\n",
       " <matplotlib.lines.Line2D at 0x2b3badf4fa0>,\n",
       " <matplotlib.lines.Line2D at 0x2b3bae010a0>]"
      ]
     },
     "execution_count": 32,
     "metadata": {},
     "output_type": "execute_result"
    },
    {
     "data": {
      "image/png": "[encoded data removed]",
      "text/plain": [
       "<Figure size 576x576 with 1 Axes>"
      ]
     },
     "metadata": {},
     "output_type": "display_data"
    }
   ],
   "source": [
    "#%% Algoritmo de cluster\n",
    "kmeans = KMeans(n_clusters=4,init='k-means++').fit(scaled_data)\n",
    "#init='random'\n",
    "#init='ndarray'\n",
    "centroides = kmeans.cluster_centers_\n",
    "print(centroides)\n",
    "plt.plot(centroides.T)"
   ]
  },
  {
   "cell_type": "markdown",
   "id": "eight-classics",
   "metadata": {},
   "source": [
    "#### <font color= #653700> Resultados: </font>\n",
    "\n",
    "En esta gráfica muestra los 4 grupos que se generaron:\n",
    "\n",
    "* El rojo es  muy alto en carbohibratos, muy bajo en azucares y muy bajo en potasio\n",
    "\n",
    "* El azul es alto en carbohidratos, muy alto en azucares y  muy bajo en potasio\n",
    "\n",
    "* El morado es muy bajo en carbohidratos, muy bajo en azucares y muy alto en potasio\n",
    "\n",
    "* El negro es alto en carbohidratos, alto en azucares y bajo en potasio"
   ]
  },
  {
   "cell_type": "code",
   "execution_count": 33,
   "id": "exceptional-stake",
   "metadata": {},
   "outputs": [],
   "source": [
    "#%% Gráfica con los 3 clústers\n",
    "# Predecir los clústers\n",
    "#Nos dice que observación pertenece a cada grupo\n",
    "grupos = kmeans.predict(scaled_data)"
   ]
  },
  {
   "cell_type": "code",
   "execution_count": 34,
   "id": "meaning-cutting",
   "metadata": {},
   "outputs": [
    {
     "data": {
      "text/plain": [
       "Cheerios                       1\n",
       "Corn Chex                      1\n",
       "Wheat Chex                     1\n",
       "Triples                        1\n",
       "Total Whole Grain              1\n",
       "Total Corn Flakes              1\n",
       "Strawberry Fruit Wheats        1\n",
       "Special K                      1\n",
       "Shredded Wheat spoon size      1\n",
       "Shredded Wheat 'n'Bran         1\n",
       "Shredded Wheat                 1\n",
       "Rice Krispies                  1\n",
       "Rice Chex                      1\n",
       "Puffed Wheat                   1\n",
       "Puffed Rice                    1\n",
       "Product 19                     1\n",
       "Nutri-grain Wheat              1\n",
       "Maypo                          1\n",
       "Kix                            1\n",
       "Just Right Crunchy  Nuggets    1\n",
       "Great Grains Pecan             1\n",
       "Grape-Nuts                     1\n",
       "Grape Nuts Flakes              1\n",
       "Double Chex                    1\n",
       "Crispix                        1\n",
       "Cream of Wheat (Quick)         1\n",
       "Corn Flakes                    1\n",
       "Wheaties                       1\n",
       "Name: name, dtype: int64"
      ]
     },
     "execution_count": 34,
     "metadata": {},
     "output_type": "execute_result"
    }
   ],
   "source": [
    "#Extraer los elementos de cada clúster\n",
    "#Cluster 1 (Rojo)\n",
    "idx_0 = grupos==0\n",
    "subdata_0 = X[idx_0]\n",
    "res_0=subdata_0.describe()\n",
    "pd.value_counts(data['name'][idx_0])\n",
    "# Cereales de este grupo"
   ]
  },
  {
   "cell_type": "code",
   "execution_count": 35,
   "id": "likely-savannah",
   "metadata": {},
   "outputs": [
    {
     "data": {
      "text/plain": [
       "Almond Delight             1\n",
       "Apple Cinnamon Cheerios    1\n",
       "Smacks                     1\n",
       "Nut&Honey Crunch           1\n",
       "Lucky Charms               1\n",
       "Honey-comb                 1\n",
       "Honey Nut Cheerios         1\n",
       "Honey Graham Ohs           1\n",
       "Golden Grahams             1\n",
       "Golden Crisp               1\n",
       "Fruity Pebbles             1\n",
       "Frosted Flakes             1\n",
       "Froot Loops                1\n",
       "Count Chocula              1\n",
       "Corn Pops                  1\n",
       "Cocoa Puffs                1\n",
       "Cinnamon Toast Crunch      1\n",
       "Cap'n'Crunch               1\n",
       "Apple Jacks                1\n",
       "Trix                       1\n",
       "Name: name, dtype: int64"
      ]
     },
     "execution_count": 35,
     "metadata": {},
     "output_type": "execute_result"
    }
   ],
   "source": [
    "#Cluster 2 (Azul)\n",
    "idx_1 = grupos==1\n",
    "subdata_1 = X[idx_1]\n",
    "res_1=subdata_1.describe()\n",
    "pd.value_counts(data['name'][idx_1])\n",
    "# Cereales de este grupo"
   ]
  },
  {
   "cell_type": "code",
   "execution_count": 36,
   "id": "extended-shore",
   "metadata": {},
   "outputs": [
    {
     "data": {
      "text/plain": [
       "100% Bran                    1\n",
       "All-Bran                     1\n",
       "All-Bran with Extra Fiber    1\n",
       "Quaker Oatmeal               1\n",
       "Name: name, dtype: int64"
      ]
     },
     "execution_count": 36,
     "metadata": {},
     "output_type": "execute_result"
    }
   ],
   "source": [
    "#Cluster 3 (Morado)\n",
    "idx_2 = grupos==2\n",
    "subdata_2 = X[idx_2]\n",
    "res_2=subdata_2.describe()\n",
    "pd.value_counts(data['name'][idx_2])\n",
    "# Cereales de este grupo"
   ]
  },
  {
   "cell_type": "code",
   "execution_count": 37,
   "id": "authentic-values",
   "metadata": {},
   "outputs": [
    {
     "data": {
      "text/plain": [
       "100% Natural Bran                         1\n",
       "Muesli Raisins; Peaches; & Pecans         1\n",
       "Total Raisin Bran                         1\n",
       "Raisin Squares                            1\n",
       "Raisin Nut Bran                           1\n",
       "Raisin Bran                               1\n",
       "Quaker Oat Squares                        1\n",
       "Post Nat. Raisin Bran                     1\n",
       "Oatmeal Raisin Crisp                      1\n",
       "Nutri-Grain Almond-Raisin                 1\n",
       "Multi-Grain Cheerios                      1\n",
       "Mueslix Crispy Blend                      1\n",
       "Muesli Raisins; Dates; & Almonds          1\n",
       "Basic 4                                   1\n",
       "Life                                      1\n",
       "Just Right Fruit & Nut                    1\n",
       "Fruitful Bran                             1\n",
       "Fruit & Fibre Dates; Walnuts; and Oats    1\n",
       "Frosted Mini-Wheats                       1\n",
       "Crispy Wheat & Raisins                    1\n",
       "Cracklin' Oat Bran                        1\n",
       "Clusters                                  1\n",
       "Bran Flakes                               1\n",
       "Bran Chex                                 1\n",
       "Wheaties Honey Gold                       1\n",
       "Name: name, dtype: int64"
      ]
     },
     "execution_count": 37,
     "metadata": {},
     "output_type": "execute_result"
    }
   ],
   "source": [
    "#Cluster 4 (Negro)\n",
    "idx_3 = grupos==3\n",
    "subdata_3 = X[idx_3]\n",
    "res_3=subdata_3.describe()\n",
    "pd.value_counts(data['name'][idx_3])\n",
    "# Cereales de este grupo"
   ]
  },
  {
   "cell_type": "code",
   "execution_count": 38,
   "id": "checked-alabama",
   "metadata": {},
   "outputs": [
    {
     "data": {
      "text/plain": [
       "array([50, 10,  0, 51], dtype=int64)"
      ]
     },
     "execution_count": 38,
     "metadata": {},
     "output_type": "execute_result"
    }
   ],
   "source": [
    "#Observaciones que están más cerca del centroide.\n",
    "#Estados característicos que representan al cluster\n",
    "closest, _ = pairwise_distances_argmin_min(kmeans.cluster_centers_, scaled_data)\n",
    "closest"
   ]
  },
  {
   "cell_type": "code",
   "execution_count": 39,
   "id": "frozen-newman",
   "metadata": {},
   "outputs": [
    {
     "name": "stdout",
     "output_type": "stream",
     "text": [
      "Nutri-grain Wheat\n",
      "Cap'n'Crunch\n",
      "100% Bran\n",
      "Oatmeal Raisin Crisp\n"
     ]
    }
   ],
   "source": [
    "#Nombres de los cereales más cercanos al centroide.\n",
    "state=data['name'].values \n",
    "for row in closest:\n",
    "    print(state[row])"
   ]
  },
  {
   "cell_type": "markdown",
   "id": "developing-latvia",
   "metadata": {},
   "source": [
    "### <font color= #653700> Conclusión: </font>"
   ]
  },
  {
   "cell_type": "markdown",
   "id": "forced-garlic",
   "metadata": {},
   "source": [
    "Los resultados de los clusters jerarquico y no jerarquico apesar de que tomamos el mismo número de cluster no generaron los mismos grupos, so por que los algoritmos funcionan de distintas maneras.\n",
    "\n",
    "Cluster y Intepretación de los dos métodos:\n",
    "\n",
    "HCluster:\n",
    "\n",
    "* Cluster 1: la media de la variable azucares es más grande que la media de los datos originales, la de los carbohidratos es menor que la media original y la media del potasio es más que el doble de la media original \n",
    "\n",
    "* Cluster 2:la media de las variables azucares y potasio es menor que la media de los datos originales y la de los carbohidratos es mayor que la media original.\n",
    "\n",
    "* Cluster 3:la media de las variables potasio y azucares es más grande que la media de los datos originales y la de los carbohidratos es menor que la media original.\n",
    "\n",
    "* Cluster 4: la media de las variables carbohidratos y azucares es mas grande que la media de los datos originales y la media para la variable potasio es menor que la media original de todos los datos.\n",
    "\n",
    "Kmeans: \n",
    "\n",
    "* Cluster 1: es muy alto en carbohidratos, muy bajo en azucares y muy bajo en potasio.\n",
    "\n",
    "* Cluster 2: es alto en carbohidratos, muy alto en azucares y muy bajo en potasio.\n",
    "\n",
    "* Cluster 3: es muy bajo en carbohidratos, muy bajo en azucares y muy alto en potasio.\n",
    "\n",
    "* Cluster 4: es alto en carbohidratos, alto en azucares y bajo en potasio.\n"
   ]
  }
 ],
 "metadata": {
  "kernelspec": {
   "display_name": "Python 3",
   "language": "python",
   "name": "python3"
  },
  "language_info": {
   "codemirror_mode": {
    "name": "ipython",
    "version": 3
   },
   "file_extension": ".py",
   "mimetype": "text/x-python",
   "name": "python",
   "nbconvert_exporter": "python",
   "pygments_lexer": "ipython3",
   "version": "3.8.5"
  }
 },
 "nbformat": 4,
 "nbformat_minor": 5
}
